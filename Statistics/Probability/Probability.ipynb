{
 "cells": [
  {
   "cell_type": "markdown",
   "metadata": {},
   "source": [
    "# Olasılık ve Olasılık Dağılımları"
   ]
  },
  {
   "cell_type": "markdown",
   "metadata": {},
   "source": [
    "## İçerik \n",
    "1. [Temel Kavramlar](#1)\n",
    "1. [Kesikli Olasılık Dağlımları](#2)\n",
    "1. [Sürekli Olasılık Dağılımları](#3)\n",
    "4. [Kaynaklar](#4)"
   ]
  },
  {
   "cell_type": "markdown",
   "metadata": {},
   "source": [
    "<a id=1></a>\n",
    "### Temel Kavramlar\n",
    "- Olaslık \n",
    "    * Olaslık, bir şeyin olmasının veya olmamasının matematiksel değeri veya olabilirlik yüzdesi, değeridir. \n",
    "    * Olasılık bize neler olacağını kesin bir şekilde söylemez, bize nelerin muhtemelen olacağını ve neyin olma olasılığının az olduğunu söyler.\n",
    "- Rassal değişken, değerlerini bir deneyin sonucundan alan değişkene verilen isimdir. \n",
    "- Dağılım, gerçeklerşen olayların sayısal karşılıklarının ortaya çıkardığı yapıya denir.\n",
    "- Olasılık Dağılımı, bir rassal olaya değerler ve bu olayların gerçekleşme olasılıklarının birlikte ifade edilmesindir.\n",
    "    - Kesikli Olasılık Dağlımları\n",
    "        * Binom\n",
    "        * Possion\n",
    "        * Bernoulli    \n",
    "    - Sürekli Olasılık Dağılımları\n",
    "        - Normal\n",
    "        - Üniform\n",
    "        - Üstel\n",
    "- Olasılık Fonksiyonu, olasılık hesaplamak için kullanılan fonksiyon.\n",
    "- Büyük sayılar yasası, bir rassal değişkenin uzun vadeli kararlılığını tanımlayan olasılık teoremimidir.\n",
    "- Merkezi limit teoremi, popülasyonun dağılımı ne olursa olsun yeterli sayıda örnek alındığında alınan örneklemin verileri normal dağıldığını savunmaktadır. Popülasyondan alınan örneklem normal dağılım göstermesi için en az 30 veriye ihtiyaç duymaktadır."
   ]
  },
  {
   "cell_type": "markdown",
   "metadata": {},
   "source": [
    "### Büyük Sayılar Yasası"
   ]
  },
  {
   "cell_type": "markdown",
   "metadata": {},
   "source": [
    "Büyük sayılar kanunu ya da büyük sayılar yasası, bir rassal değişkenin uzun vadeli kararlılığını tanımlayan bir olasılık teoremidir. Sonlu bir beklenen değere sahip birbirinden bağımsız ve eşit dağılıma sahip bir rassal değişkenler örneklemi verildiğinde, bu gözlemlerin ortalaması sonuçta bu beklenen değere yakınsayacak ve bu değere yakın bir seyir izleyecektir.\n",
    "\n",
    "Örneğin, yazı tura deneyi gerçekleştirelim. Bu işlemin olasılığı %50'dir.\n",
    "\n",
    "Şimdi basit bir deney yapalım.\n",
    "\n",
    "3 kez yazı tura attığımızı ve bunun sonucunda 2 kez tura 1 kez yazı geldiğini varsayılım"
   ]
  },
  {
   "cell_type": "code",
   "execution_count": 1,
   "metadata": {},
   "outputs": [
    {
     "name": "stdout",
     "output_type": "stream",
     "text": [
      "Tura Gelme Olasılığı: 0.6666666666666666\n"
     ]
    }
   ],
   "source": [
    "import numpy as np\n",
    "arr = [1,1,0] # 1 -> Tura 0 -> Yazı\n",
    "print(\"Tura Gelme Olasılığı:\", np.mean(arr))"
   ]
  },
  {
   "cell_type": "markdown",
   "metadata": {},
   "source": [
    "Burada gözlemlediğimiz üzere tura gelme olasılığı %50 değildir. Bu veri kümesi için %66'dır. Fakat gözlem sayısı arttıkca bu değer beklenen değere (%50) ye yaklaşacaktır. "
   ]
  },
  {
   "cell_type": "code",
   "execution_count": 2,
   "metadata": {},
   "outputs": [
    {
     "name": "stdout",
     "output_type": "stream",
     "text": [
      "Atış Sayısı:  2 \tTura Gelme Olasılığı: 0.50\n",
      "Atış Sayısı:  4 \tTura Gelme Olasılığı: 0.25\n",
      "Atış Sayısı:  8 \tTura Gelme Olasılığı: 0.88\n",
      "Atış Sayısı:  16 \tTura Gelme Olasılığı: 0.44\n",
      "Atış Sayısı:  32 \tTura Gelme Olasılığı: 0.47\n",
      "Atış Sayısı:  64 \tTura Gelme Olasılığı: 0.61\n",
      "Atış Sayısı:  128 \tTura Gelme Olasılığı: 0.52\n",
      "Atış Sayısı:  256 \tTura Gelme Olasılığı: 0.54\n",
      "Atış Sayısı:  512 \tTura Gelme Olasılığı: 0.52\n",
      "Atış Sayısı:  1024 \tTura Gelme Olasılığı: 0.49\n",
      "Atış Sayısı:  2048 \tTura Gelme Olasılığı: 0.48\n",
      "Atış Sayısı:  4096 \tTura Gelme Olasılığı: 0.50\n",
      "Atış Sayısı:  8192 \tTura Gelme Olasılığı: 0.50\n",
      "Atış Sayısı:  16384 \tTura Gelme Olasılığı: 0.50\n",
      "Atış Sayısı:  32768 \tTura Gelme Olasılığı: 0.50\n",
      "Atış Sayısı:  65536 \tTura Gelme Olasılığı: 0.50\n",
      "Atış Sayısı:  131072 \tTura Gelme Olasılığı: 0.50\n",
      "Atış Sayısı:  262144 \tTura Gelme Olasılığı: 0.50\n",
      "Atış Sayısı:  524288 \tTura Gelme Olasılığı: 0.50\n",
      "Atış Sayısı:  1048576 \tTura Gelme Olasılığı: 0.50\n",
      "Atış Sayısı:  2097152 \tTura Gelme Olasılığı: 0.50\n",
      "Atış Sayısı:  4194304 \tTura Gelme Olasılığı: 0.50\n",
      "Atış Sayısı:  8388608 \tTura Gelme Olasılığı: 0.50\n",
      "Atış Sayısı:  16777216 \tTura Gelme Olasılığı: 0.50\n"
     ]
    }
   ],
   "source": [
    "random_size = np.random.RandomState(127) # Rasgele seçimi sabitler \n",
    "for i in np.arange(1,25):\n",
    "    exp_size = 2**i #Deney sayısı (Paranın kaç kez atıldığı)\n",
    "    heads_tails = random_size.randint(0,2, size=exp_size) # Deney kümesini oluşturur\n",
    "    prob_heads = np.mean(heads_tails) # Tura gelme olasılığı\n",
    "    print(\"Atış Sayısı: \", exp_size, \"\\tTura Gelme Olasılığı: %.2f\" %(prob_heads))"
   ]
  },
  {
   "cell_type": "markdown",
   "metadata": {},
   "source": [
    "<a id=2></a>\n",
    "### Kesikli Olasılık Dağlımları"
   ]
  },
  {
   "cell_type": "markdown",
   "metadata": {},
   "source": [
    "#### Bernoulli\n",
    "- Tek denemede gerçekleşen olayların olasılığının hesaplanmasında kullanılır.\n",
    "- İki sonuçlu olaylar ile ilgilenildiğinde kullanılan kesikli olasılık dağılımıdır.(Olumlu/Olumsuz, Yazı/Tura, 1/0 vb.)\n",
    "- p = Başarılı olma olasılığı  $\\quad$ q = Başarısız olma olasılığı\n",
    "\n",
    "- ${\\large f(x;p) = p^x(1-p)^{1-x}, \\quad x \\in {0,1}}$\n",
    "\n",
    "- ${\\large E(x) = p \\quad Var(X) = pq = p(1-p)}$\n",
    "\n",
    "<center><img src=\"bernoulli.png\"/><\\center>"
   ]
  },
  {
   "cell_type": "code",
   "execution_count": 3,
   "metadata": {},
   "outputs": [],
   "source": [
    "def bernoulli_calculate(p):\n",
    "    from scipy.stats import bernoulli\n",
    "    \"\"\"\n",
    "    Verilen olasılık değerine göre bernoulli dağılımını \n",
    "    kullanarak hesaplama yapar ve sonuçları döndürür.\n",
    "    \"\"\"\n",
    "\n",
    "    print(\"Başarılı olma durumu:\", bernoulli(p).pmf(k=1)) # Tura atma durumu 1 ile ifade edilir (Başarılı olma durumu)\n",
    "    print(\"Başarısız olma durumu:\", bernoulli(p).pmf(k=0)) # Yazı atma durumu 0 ile ifade edilir (Başarısız olma durumu)"
   ]
  },
  {
   "cell_type": "code",
   "execution_count": 4,
   "metadata": {},
   "outputs": [
    {
     "name": "stdout",
     "output_type": "stream",
     "text": [
      "Başarılı olma durumu: 0.2\n",
      "Başarısız olma durumu: 0.8\n"
     ]
    }
   ],
   "source": [
    "bernoulli_calculate(0.2)"
   ]
  },
  {
   "cell_type": "markdown",
   "metadata": {},
   "source": [
    "#### Binom\n",
    "- Bağımsız n deneme sonucu k başarılı olma olasılığı ile ilgilenildiğinde kullanılan dağımlıdır.\n",
    "- Bernoulli'nin n kez denenmiş halidir.\n",
    "- Deney süresince örneklemde denek sayısı ya da deneme sayısı sabit olmalıdır.\n",
    "- Denemeler birbirinden bağımsızdır. Her iki denemede de olası sonuç vardır. (istenen ve istenmeyen olay)\n",
    "- Her denemde ilgilenilen olay olasılığı sabittir.\n",
    "\n",
    "- ${\\large  f(x;n,p) = \\binom{n}{x} p^x (1-p)^{n-x}, x=0,1,2,...,n}$\n",
    "\n",
    "- $\\large {E(x) = np \\quad Var(x)= np(1-p)}$\n",
    "\n",
    "\n",
    "<center>!<img src=\"binomial.png\"/><\\center>"
   ]
  },
  {
   "cell_type": "code",
   "execution_count": 5,
   "metadata": {},
   "outputs": [],
   "source": [
    "def binom_calculate(k, n, mu):\n",
    "    from scipy.stats import binom\n",
    "    \"\"\"\n",
    "    Belirtilen değer(k) ve üzerindeki değerler için \n",
    "    verilen olasılık ve deney sayısına göre \n",
    "    kümülatif olarak olasılık hesaplama yapar.\n",
    "    \"\"\"\n",
    "\n",
    "    print(k, \"ve daha fazla kişinin alışveriş yapma olasılığı\", 1 - binom.cdf(k, n, mu)) "
   ]
  },
  {
   "cell_type": "markdown",
   "metadata": {},
   "source": [
    "#### Örnek\n",
    "Bir e-ticaret sitesine gelen ortalama 4 müşteriden 1 alışveriş yapıyor. Bu e ticaret sitesine bir gün içinde 30 müşteri girmesi bekleniyor.\n",
    "En az 10 alışveriş yapılma olasılığı nedir?\n",
    "\n",
    "* ${\\mu = 1/4} $\n",
    "* ${k = 10} $\n",
    "* ${deney \\ sayısı(n) = 30}$\n"
   ]
  },
  {
   "cell_type": "code",
   "execution_count": 6,
   "metadata": {},
   "outputs": [
    {
     "name": "stdout",
     "output_type": "stream",
     "text": [
      "10 ve daha fazla kişinin alışveriş yapma olasılığı 0.10572812269266008\n"
     ]
    }
   ],
   "source": [
    "mu = 1/4\n",
    "n = 30\n",
    "k = 10\n",
    "binom_calculate(k, n, mu)"
   ]
  },
  {
   "cell_type": "markdown",
   "metadata": {},
   "source": [
    "#### Poisson\n",
    "- Belirli bir zaman aralığında belirli bir alanda nadiren rastlanan olayların olasılıklarını hesaplamak için kullanılır.\n",
    "\n",
    "\\begin{align*}\n",
    "\\huge f(x, \\lambda) = \\frac{\\lambda^x e^{-\\lambda}}{x!}, x = 0,1,...,n \\\\\n",
    "\\end{align*}\n",
    "\n",
    "\\begin{align*}\n",
    "\\huge E(X) = \\lambda \\quad Var(x) = \\lambda\n",
    "\\end{align*}\n",
    "\n",
    "- Gözlem sayısınon büyük(n) olayın gerçekleşme olasılığının(p) küçük olduğu durumlarda kullanılır.\n",
    "    * Örnek: Kredi kartı işlemlerinde sahtekarlık olması\n",
    "- Bir olayın nadir olay kabul edilebilmesi için:\n",
    "    * n > 50 ve n*p < 50 şartlarını sağlaması gerekmektedir.\n",
    "- Rassal denemeler iki sonuçlu olmalıdır.\n",
    "- Aynı koşullar altında gerçekleşmelidir.\n",
    "- Rassal denemeler birbirinden bağımsız olmalıdır.\n",
    "- Ortalama olay zamanı sabittir. Yani her olay aynı zaman aralığında gerçekleşmeli.\n",
    "- İki olay aynı anda gerçekleşemez.\n",
    "    \n",
    "<center>!<img src=\"Poisson.png\"/><\\center>"
   ]
  },
  {
   "cell_type": "code",
   "execution_count": 7,
   "metadata": {},
   "outputs": [],
   "source": [
    "def poisson_calculate(mu, n):\n",
    "    from scipy.stats import poisson\n",
    "    \"\"\"\n",
    "    Belirtilen değer(k) ve üzerindeki değerler için \n",
    "    verilen olasılık ve deney sayısına göre \n",
    "    kümülatif olarak olasılık hesaplama yapar.\n",
    "    \"\"\"\n",
    "\n",
    "    print(n, \"kişinin alışveriş yapma olasığı:\", 1 - poisson.cdf(n, mu))"
   ]
  },
  {
   "cell_type": "markdown",
   "metadata": {},
   "source": [
    "#### Örnek\n",
    "Bir e-ticaret sitesine ml modeli ekleniyor. ml modeli eklendikten sonra elde edilen verilere göre günün 2 saatlik diliminde ml modeli kişiye tavsiyeler sunuyor. Tavsiye sunulan müşterilerden 40 tanesi satın alma işlemini gerçekleştiriyor. Bu bilgilere göre ertesi gün 2 saatlik zaman dilimi içerisinde \n",
    "* a) 60 dan fazla satış yapılma olasılığı nedir?\n",
    "* b) 30 dan fazla satış yapılma olasılığı nedir?"
   ]
  },
  {
   "cell_type": "code",
   "execution_count": 8,
   "metadata": {},
   "outputs": [
    {
     "name": "stdout",
     "output_type": "stream",
     "text": [
      "60 kişinin alışveriş yapma olasığı: 0.0012009793488308995\n"
     ]
    }
   ],
   "source": [
    "poisson_calculate(40, 60)"
   ]
  },
  {
   "cell_type": "code",
   "execution_count": 9,
   "metadata": {},
   "outputs": [
    {
     "name": "stdout",
     "output_type": "stream",
     "text": [
      "30 kişinin alışveriş yapma olasığı: 0.9383058468875304\n"
     ]
    }
   ],
   "source": [
    "poisson_calculate(40, 30)"
   ]
  },
  {
   "cell_type": "markdown",
   "metadata": {},
   "source": [
    "<a id=3></a>\n",
    "### Sürekli Olasılık Dağlımları"
   ]
  },
  {
   "cell_type": "markdown",
   "metadata": {},
   "source": [
    "### Üstel Dağılım\n",
    "\n",
    "- Belli bir olay gerçekleşene kadar geçen süre ile ilgilenir.\n",
    "- Sabit zaman aralığında meydana gelen olayların bir sonraki zaman diliminde ne zaman meydana ve ne kadar olasılıkla meydana geleceği ile ilgilidir.\n",
    "\n",
    "\\begin{align*}\n",
    "\\large f(x, \\lambda) = \\Bigg\\{ {\\lambda e^{- \\lambda x}, \\quad x \\geq 0 \\\\ 0, \\quad x < 0}\n",
    "\\end{align*}\n"
   ]
  },
  {
   "cell_type": "markdown",
   "metadata": {},
   "source": [
    "### Örnek\n",
    "Bir otobüs durağında 10 dakikada bir otobüs gelmektedir. Otobüsün gelmesinin bir dakikadan daha uzun sürmesinin olasılığı nedir?\n",
    "\n",
    "* lambda = 1/10"
   ]
  },
  {
   "cell_type": "code",
   "execution_count": 10,
   "metadata": {},
   "outputs": [],
   "source": [
    "def exp_calculate(lambda_value):\n",
    "    from scipy.stats import expon    \n",
    "    \"\"\"\n",
    "    Verilen lambda değerine kümülatif olarak olasılık hesaplama yapar.\n",
    "    \"\"\"\n",
    "\n",
    "    print(\"1 dakikadan daha fazla sürme olasığı:\", 1 - expon.cdf(lambda_value))"
   ]
  },
  {
   "cell_type": "code",
   "execution_count": 11,
   "metadata": {},
   "outputs": [
    {
     "name": "stdout",
     "output_type": "stream",
     "text": [
      "1 dakikadan daha fazla sürme olasığı: 0.9048374180359595\n"
     ]
    }
   ],
   "source": [
    "exp_calculate(1/10)"
   ]
  },
  {
   "cell_type": "markdown",
   "metadata": {},
   "source": [
    "#### Normal Dağılım\n",
    "\n",
    "- Normal dağıldığı bilinen sürekli rassal değişkenler için olasılık hesaplaması için kullanılır. \n",
    "\n",
    "\\begin{align*}\n",
    "\\huge P(x) = \\frac{1}{\\sigma \\sqrt (2 \\pi)} e^  {- \\frac{(x-\\mu)^2}{2\\sigma^2}}\n",
    "\\end{align*}\n",
    "\n",
    "- İstatistikte önemli bir yere sahiptir. Gerçek hayattaki örneklerin bir çoğu bu dağılma sahiptir. (Örneğin: IQ Seviyeleri)\n",
    "\n"
   ]
  },
  {
   "cell_type": "markdown",
   "metadata": {},
   "source": [
    "<center><img src=\"normal.png\"/></center>"
   ]
  },
  {
   "cell_type": "code",
   "execution_count": 12,
   "metadata": {},
   "outputs": [],
   "source": [
    "from scipy.stats import norm"
   ]
  },
  {
   "cell_type": "markdown",
   "metadata": {},
   "source": [
    "Elimizde normal dağılıma sahip bir veri seti olsun. \n",
    "\n",
    "Bu veri setinin bir sınıfın sınav notlarından oluştuğunu varsayalım\n",
    "\n",
    "Not ortalamasının 80, standart sapmanın ise 7 olduğunu bilinmekte"
   ]
  },
  {
   "cell_type": "code",
   "execution_count": 14,
   "metadata": {},
   "outputs": [
    {
     "data": {
      "text/plain": [
       "0.07656372550983481"
      ]
     },
     "execution_count": 14,
     "metadata": {},
     "output_type": "execute_result"
    }
   ],
   "source": [
    "# Bu sınıftan bir öğrencinin 90 dan fazla not alma olasılığı nedir?\n",
    "1 - norm.cdf(90, 80, 7)"
   ]
  },
  {
   "cell_type": "code",
   "execution_count": 15,
   "metadata": {},
   "outputs": [
    {
     "data": {
      "text/plain": [
       "0.9978626330199137"
      ]
     },
     "execution_count": 15,
     "metadata": {},
     "output_type": "execute_result"
    }
   ],
   "source": [
    "# Bu sınıftan bir öğrencinin 60 dan fazla not alma olasılığı nedir?\n",
    "1 - norm.cdf(60, 80, 7) "
   ]
  },
  {
   "cell_type": "code",
   "execution_count": 16,
   "metadata": {},
   "outputs": [
    {
     "data": {
      "text/plain": [
       "0.016062285603828316"
      ]
     },
     "execution_count": 16,
     "metadata": {},
     "output_type": "execute_result"
    }
   ],
   "source": [
    "# Bu sınıftan bir öğrencinin 65 den az not alma olasılığı nedir?\n",
    "norm.cdf(65, 80, 7)"
   ]
  },
  {
   "cell_type": "markdown",
   "metadata": {},
   "source": [
    "<a id=4></a>\n",
    "## Kaynaklar\n",
    "\n",
    "#### Websiteleri\n",
    "\n",
    "- https://tr.wikipedia.org/wiki/Anasayfa\n",
    "\n",
    "#### Kitaplar\n",
    "\n",
    "- https://web.stanford.edu/~hastie/ElemStatLearn/\n",
    "\n",
    "#### Kurslar\n",
    "\n",
    "- https://www.udemy.com/course/python-egitimi/\n",
    "- https://www.udemy.com/course/istatistik-python-adan-zye-temel-istatistik-bilimi-6/\n"
   ]
  }
 ],
 "metadata": {
  "kernelspec": {
   "display_name": "Python 3",
   "language": "python",
   "name": "python3"
  },
  "language_info": {
   "codemirror_mode": {
    "name": "ipython",
    "version": 3
   },
   "file_extension": ".py",
   "mimetype": "text/x-python",
   "name": "python",
   "nbconvert_exporter": "python",
   "pygments_lexer": "ipython3",
   "version": "3.8.5"
  }
 },
 "nbformat": 4,
 "nbformat_minor": 4
}
