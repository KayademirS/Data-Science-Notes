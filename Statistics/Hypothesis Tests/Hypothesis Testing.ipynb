{
 "cells": [
  {
   "cell_type": "markdown",
   "metadata": {},
   "source": [
    "# Hipotez Testleri\n",
    " \n",
    "* Hipotez testi nedir?\n",
    "     - Bir inanışı test etmek için kullanılan istatistiksel bir tekniktir.\n",
    "\n",
    "* Hipotezler ve türleri\n",
    "    - ${H_0: \\mu = 50 \\quad H_0: \\mu <= 50 \\quad H_0: \\mu >= 50 \\\\\n",
    "        H_1: \\mu = 50 \\quad H_1: \\mu <= 50 \\quad H_1: \\mu >= 50 }$\n",
    "\n",
    "\n",
    "* Hata Tipleri \n",
    "    - Güven düzeyi $1-{\\alpha}$:\n",
    "    - Testin gücü $1-{\\beta}$:\n",
    "    - I. Tip Hata $\\alpha$:\n",
    "    - II. Tip Hata $\\beta$:\n",
    "![title](hatatipleri.png)\n",
    "\n",
    "* p value \n",
    "    - Hipotez testlerinin sonuçlarını değerlendirmek üzere programlar tarafından p value değeri verilir. Bu değer üzerinden kolayca yorum yapabiliriz.\n",
    "    - p < 0.05 $H_0$ reddedilir.\n",
    "    - Not: Dağılım testlerinde $H_0$ reddedilmek istenilmez. Çünkü $H_0$ \"örnek dağılımı\" ile teorik dağılım arasında fark yoktur der.\n",
    "\n",
    "* Hipotez Testi Adımları\n",
    "    - 1. Adım: Hipotezlerin kurulması ve yönlerinin belirlenmesi \n",
    "    - 2. Adım: Anlamlılık düzeyinin ve tablo değerinin belirlenmesi\n",
    "    - 3. Adım: Test istatistiğinin belirlenmesi ve test istatistiğinin hesaplanması\n",
    "    - 4. Adım: Hesaplanan test istatistiği ile alfaya karşılık gelen tablo değerinin kaşırlaştırılması \n",
    "      Test istatistiği (Zh) > Tablo Değeri (Zh) is ${H_0}$ Red\n",
    "    - 5. Adım: Yorum\n",
    "    \n",
    "* Hipotez Testleri\n",
    "    1. Tek Örneklem Tesleri\n",
    "        * Parametrik\n",
    "        * Nonparametrik\n",
    "    1. İki Örneklem Testleri\n",
    "        1. Bağımlı İki Örneklem Testleri\n",
    "            * Parametrik\n",
    "            * Nonparametrik\n",
    "        1. Bağımsız İki Örneklem Testleri\n",
    "            * Parametrik\n",
    "            * Nonparametrik\n",
    "    1. k Örneklem Testleri\n",
    "        1. Bağımlı k Örneklem Testleri\n",
    "        1. Bağımsız k Örneklem Testleri\n",
    "    "
   ]
  },
  {
   "cell_type": "markdown",
   "metadata": {},
   "source": [
    "## Tek Örenklem T Testi\n",
    "\n",
    "- Popülasyon ortalaması ile varsayımsal bir değer arasında istatistiksel olarak anlamlı bir fark olup olmadığını test etmek için kullanılan parametrik bir testtir.\n",
    "- t dağılımı\n",
    "- z dağılımı\n",
    "    1. Anakütle standart sapması biliniyorsa z istatistiği kullanılır.\n",
    "    1. Anakütle standart sapması bilinmiyorsa ve n>30 ise z istatistiği kullanılır.\n",
    "    1. Anakütle standart sapması bilinmiyorsa ve n<30 ise t istatistiği kullanılır."
   ]
  },
  {
   "cell_type": "code",
   "execution_count": 1,
   "metadata": {},
   "outputs": [],
   "source": [
    "import numpy as np\n",
    "arr = np.random.normal(500, 150, 1000)"
   ]
  },
  {
   "cell_type": "code",
   "execution_count": 2,
   "metadata": {},
   "outputs": [
    {
     "data": {
      "text/plain": [
       "DescribeResult(nobs=1000, minmax=(-112.52770515170573, 1010.46120861708), mean=502.6816866600959, variance=23010.929422077945, skewness=-0.07022316248896554, kurtosis=0.30948341696217385)"
      ]
     },
     "execution_count": 2,
     "metadata": {},
     "output_type": "execute_result"
    }
   ],
   "source": [
    "import scipy.stats as stats\n",
    "stats.describe(arr)"
   ]
  },
  {
   "cell_type": "code",
   "execution_count": 3,
   "metadata": {},
   "outputs": [
    {
     "data": {
      "text/plain": [
       "<AxesSubplot:ylabel='Frequency'>"
      ]
     },
     "execution_count": 3,
     "metadata": {},
     "output_type": "execute_result"
    },
    {
     "data": {
      "image/png": "[encoded data removed]",
      "text/plain": [
       "<Figure size 432x288 with 1 Axes>"
      ]
     },
     "metadata": {
      "needs_background": "light"
     },
     "output_type": "display_data"
    }
   ],
   "source": [
    "# Varsayımlar \n",
    "# 1. Normallik varsayımı\n",
    "import pandas as pd\n",
    "pd.DataFrame(arr).plot.hist()"
   ]
  },
  {
   "cell_type": "code",
   "execution_count": 4,
   "metadata": {},
   "outputs": [
    {
     "data": {
      "image/png": "[encoded data removed]",
      "text/plain": [
       "<Figure size 432x288 with 1 Axes>"
      ]
     },
     "metadata": {
      "needs_background": "light"
     },
     "output_type": "display_data"
    }
   ],
   "source": [
    "import pylab\n",
    "stats.probplot(arr, dist='norm', plot=pylab)\n",
    "pylab.show()"
   ]
  },
  {
   "cell_type": "code",
   "execution_count": 5,
   "metadata": {},
   "outputs": [],
   "source": [
    "# Shapiro-Wilks Testi"
   ]
  },
  {
   "cell_type": "code",
   "execution_count": 6,
   "metadata": {},
   "outputs": [
    {
     "data": {
      "text/plain": [
       "ShapiroResult(statistic=0.9984782934188843, pvalue=0.5405543446540833)"
      ]
     },
     "execution_count": 6,
     "metadata": {},
     "output_type": "execute_result"
    }
   ],
   "source": [
    "from scipy.stats import shapiro\n",
    "shapiro(arr)"
   ]
  },
  {
   "cell_type": "code",
   "execution_count": 7,
   "metadata": {},
   "outputs": [
    {
     "data": {
      "text/plain": [
       "Ttest_1sampResult(statistic=10.982281987657927, pvalue=1.4334326539085875e-26)"
      ]
     },
     "execution_count": 7,
     "metadata": {},
     "output_type": "execute_result"
    }
   ],
   "source": [
    "stats.ttest_1samp(arr, popmean=450)"
   ]
  },
  {
   "cell_type": "code",
   "execution_count": 8,
   "metadata": {},
   "outputs": [],
   "source": [
    "# Nonparametrik Tek Örneklem Testi"
   ]
  },
  {
   "cell_type": "code",
   "execution_count": 9,
   "metadata": {},
   "outputs": [],
   "source": [
    "from statsmodels.stats.descriptivestats import sign_test"
   ]
  },
  {
   "cell_type": "code",
   "execution_count": 10,
   "metadata": {},
   "outputs": [
    {
     "data": {
      "text/plain": [
       "(11.0, 0.5066600426249498)"
      ]
     },
     "execution_count": 10,
     "metadata": {},
     "output_type": "execute_result"
    }
   ],
   "source": [
    "sign_test(arr, 500)"
   ]
  },
  {
   "cell_type": "markdown",
   "metadata": {},
   "source": [
    "# Tek örneklem oran testi \n",
    "- oransal bir ifade test edilmek istenildiğinde kullanırlır \n",
    "- hipotezler\n",
    "- z \n",
    "- n > 30"
   ]
  },
  {
   "cell_type": "code",
   "execution_count": 11,
   "metadata": {},
   "outputs": [],
   "source": [
    "from statsmodels.stats.proportion import proportions_ztest"
   ]
  },
  {
   "cell_type": "code",
   "execution_count": 12,
   "metadata": {},
   "outputs": [],
   "source": [
    "count = 40\n",
    "nobs = 500\n",
    "value = 0.125"
   ]
  },
  {
   "cell_type": "code",
   "execution_count": 13,
   "metadata": {},
   "outputs": [
    {
     "data": {
      "text/plain": [
       "(-3.7090151628513017, 0.0002080669689845979)"
      ]
     },
     "execution_count": 13,
     "metadata": {},
     "output_type": "execute_result"
    }
   ],
   "source": [
    "proportions_ztest(count, nobs, value)"
   ]
  },
  {
   "cell_type": "markdown",
   "metadata": {},
   "source": [
    "# Bağımsız İki Örneklem T Testi (AB Testi)\n",
    "\n",
    "- İki grup ortalaması arasında karşılaştırma yapılmak istenildiğinde kullanılır.\n",
    "- hipotezler \n",
    "- Varsayımlar \n",
    "    * t formülleri\n",
    "- Normallik \n",
    "- Varyans homejenliği"
   ]
  },
  {
   "cell_type": "code",
   "execution_count": 14,
   "metadata": {},
   "outputs": [
    {
     "name": "stdout",
     "output_type": "stream",
     "text": [
      "   Gelir Grup\n",
      "0     34    A\n",
      "1     21    A\n",
      "2     34    A\n",
      "3     37    A\n",
      "4     34    A\n",
      "    Gelir Grup\n",
      "18     44    B\n",
      "19     56    B\n",
      "20     11    B\n",
      "21     35    B\n",
      "22     16    B\n"
     ]
    }
   ],
   "source": [
    "A = pd.DataFrame([34,21,34,37,34,34,56,32,55,38,35,34,21,54,37,45,32,21,34,52,12,34,12])\n",
    "B = pd.DataFrame([45,23,54,47,42,33,97,92,55,76,65,84,61,54,66,35,39,14,44,56,11,35,16])\n",
    "\n",
    "Grup_A = np.arange(len(A))\n",
    "Grup_A = pd.DataFrame(Grup_A)\n",
    "Grup_A[:] = \"A\"\n",
    "A = pd.concat([A, Grup_A], axis=1)\n",
    "\n",
    "Grup_B = np.arange(len(B))\n",
    "Grup_B = pd.DataFrame(Grup_B)\n",
    "Grup_B[:] = \"B\"\n",
    "B = pd.concat([B, Grup_B], axis=1)\n",
    "\n",
    "AB = pd.concat([A, B])\n",
    "AB.columns = [\"Gelir\", \"Grup\"]\n",
    "print(AB.head())\n",
    "print(AB.tail())"
   ]
  },
  {
   "cell_type": "code",
   "execution_count": 15,
   "metadata": {},
   "outputs": [
    {
     "data": {
      "text/plain": [
       "<AxesSubplot:xlabel='Grup', ylabel='Gelir'>"
      ]
     },
     "execution_count": 15,
     "metadata": {},
     "output_type": "execute_result"
    },
    {
     "data": {
      "image/png": "[encoded data removed]",
      "text/plain": [
       "<Figure size 432x288 with 1 Axes>"
      ]
     },
     "metadata": {
      "needs_background": "light"
     },
     "output_type": "display_data"
    }
   ],
   "source": [
    "import seaborn as sns\n",
    "sns.boxplot(x=\"Grup\", y=\"Gelir\", data=AB)"
   ]
  },
  {
   "cell_type": "code",
   "execution_count": 16,
   "metadata": {},
   "outputs": [
    {
     "data": {
      "text/plain": [
       "ShapiroResult(statistic=0.9119639992713928, pvalue=0.044934745877981186)"
      ]
     },
     "execution_count": 16,
     "metadata": {},
     "output_type": "execute_result"
    }
   ],
   "source": [
    "# normallik testi\n",
    "shapiro(AB[AB.Grup == \"A\"].Gelir)"
   ]
  },
  {
   "cell_type": "code",
   "execution_count": 17,
   "metadata": {},
   "outputs": [
    {
     "data": {
      "text/plain": [
       "ShapiroResult(statistic=0.9717252850532532, pvalue=0.7302184104919434)"
      ]
     },
     "execution_count": 17,
     "metadata": {},
     "output_type": "execute_result"
    }
   ],
   "source": [
    "shapiro(AB[AB.Grup == \"B\"].Gelir)"
   ]
  },
  {
   "cell_type": "code",
   "execution_count": 18,
   "metadata": {},
   "outputs": [
    {
     "data": {
      "text/plain": [
       "LeveneResult(statistic=8.234907195454921, pvalue=0.0062922702935843625)"
      ]
     },
     "execution_count": 18,
     "metadata": {},
     "output_type": "execute_result"
    }
   ],
   "source": [
    "# varyans homojenliği varsayımı\n",
    "stats.levene(AB[AB.Grup == \"A\"].Gelir, AB[AB.Grup == \"B\"].Gelir)"
   ]
  },
  {
   "cell_type": "code",
   "execution_count": 19,
   "metadata": {},
   "outputs": [
    {
     "name": "stdout",
     "output_type": "stream",
     "text": [
      " Test İstatistiği = -2.7206\n",
      " P-value = 0.0093\n"
     ]
    }
   ],
   "source": [
    "test_istatistigi, pvalue = stats.ttest_ind(AB[AB.Grup == \"A\"].Gelir, AB[AB.Grup == \"B\"].Gelir, equal_var=True)\n",
    "print(\" Test İstatistiği = %.4f\\n P-value = %.4f\" % (test_istatistigi, pvalue))"
   ]
  },
  {
   "cell_type": "markdown",
   "metadata": {},
   "source": [
    "# Nonparametrik Bağımsız İki Örneklem Testi"
   ]
  },
  {
   "cell_type": "code",
   "execution_count": 20,
   "metadata": {},
   "outputs": [
    {
     "data": {
      "text/plain": [
       "MannwhitneyuResult(statistic=146.5, pvalue=0.004836717671249619)"
      ]
     },
     "execution_count": 20,
     "metadata": {},
     "output_type": "execute_result"
    }
   ],
   "source": [
    "stats.mannwhitneyu(AB[AB.Grup == \"A\"].Gelir, AB[AB.Grup == \"B\"].Gelir)"
   ]
  },
  {
   "cell_type": "code",
   "execution_count": 21,
   "metadata": {},
   "outputs": [
    {
     "name": "stdout",
     "output_type": "stream",
     "text": [
      " Test İstatistiği = 146.5000\n",
      " P-value = 0.0048\n"
     ]
    }
   ],
   "source": [
    "test_istatistigi, pvalue = stats.mannwhitneyu(AB[AB.Grup == \"A\"].Gelir, AB[AB.Grup == \"B\"].Gelir)\n",
    "print(\" Test İstatistiği = %.4f\\n P-value = %.4f\" % (test_istatistigi, pvalue))"
   ]
  },
  {
   "cell_type": "markdown",
   "metadata": {},
   "source": [
    "# Bağımlı İki Örneklem T Testi\n",
    "\n",
    "- Bağımlı iki grup ortalaması arasında karşılaştırma yapılmak istenildiğinde kullanılır.\n",
    "- hipotezler\n",
    "- t formülü\n",
    "- Varsayımlar \n",
    "    * Normallik \n",
    "    * Varyans Homojenliği"
   ]
  },
  {
   "cell_type": "code",
   "execution_count": 22,
   "metadata": {},
   "outputs": [
    {
     "name": "stdout",
     "output_type": "stream",
     "text": [
      "       Score Durum\n",
      "0  52.381678   ilk\n",
      "1  49.372310   ilk\n",
      "2  69.705307   ilk\n",
      "3  37.714628   ilk\n",
      "4  52.338325   ilk\n",
      "         Score Durum\n",
      "995  62.370051   son\n",
      "996  64.955254   son\n",
      "997  48.498395   son\n",
      "998  50.368204   son\n",
      "999  51.416524   son\n"
     ]
    }
   ],
   "source": [
    "df1 = pd.DataFrame(np.random.normal(50, 10, 1000))\n",
    "df2 = pd.DataFrame(np.random.normal(60, 10, 1000))\n",
    "\n",
    "df_1 = np.arange(len(df1))\n",
    "df_1 = pd.DataFrame(df_1)\n",
    "df_1[:] = \"ilk\"\n",
    "df1 = pd.concat([df1, df_1], axis=1)\n",
    "\n",
    "df_2 = np.arange(len(df2))\n",
    "df_2 = pd.DataFrame(df_2)\n",
    "df_2[:] = \"son\"\n",
    "df2 = pd.concat([df2, df_2], axis=1)\n",
    "\n",
    "df = pd.concat([df1, df2])\n",
    "df.columns = [\"Score\", \"Durum\"]\n",
    "print(df.head())\n",
    "print(df.tail())"
   ]
  },
  {
   "cell_type": "code",
   "execution_count": 23,
   "metadata": {},
   "outputs": [
    {
     "data": {
      "text/plain": [
       "<AxesSubplot:xlabel='Durum', ylabel='Score'>"
      ]
     },
     "execution_count": 23,
     "metadata": {},
     "output_type": "execute_result"
    },
    {
     "data": {
      "image/png": "[encoded data removed]",
      "text/plain": [
       "<Figure size 432x288 with 1 Axes>"
      ]
     },
     "metadata": {
      "needs_background": "light"
     },
     "output_type": "display_data"
    }
   ],
   "source": [
    "sns.boxplot(x=df.Durum, y=df.Score)"
   ]
  },
  {
   "cell_type": "code",
   "execution_count": 24,
   "metadata": {},
   "outputs": [
    {
     "data": {
      "text/plain": [
       "ShapiroResult(statistic=0.9993211627006531, pvalue=0.9821730256080627)"
      ]
     },
     "execution_count": 24,
     "metadata": {},
     "output_type": "execute_result"
    }
   ],
   "source": [
    "# Varsayım kontrolu \n",
    "shapiro(df[df.Durum == \"ilk\"].Score)"
   ]
  },
  {
   "cell_type": "code",
   "execution_count": 25,
   "metadata": {},
   "outputs": [
    {
     "data": {
      "text/plain": [
       "ShapiroResult(statistic=0.9988252520561218, pvalue=0.7711648941040039)"
      ]
     },
     "execution_count": 25,
     "metadata": {},
     "output_type": "execute_result"
    }
   ],
   "source": [
    "shapiro(df[df.Durum == \"son\"].Score)"
   ]
  },
  {
   "cell_type": "code",
   "execution_count": 26,
   "metadata": {},
   "outputs": [
    {
     "name": "stdout",
     "output_type": "stream",
     "text": [
      " Test İstatistiği = 0.0575\n",
      " P-value = 0.8106\n"
     ]
    }
   ],
   "source": [
    "test_istatistigi, pvalue = stats.levene(df[df.Durum == \"ilk\"].Score, df[df.Durum == \"son\"].Score)\n",
    "print(\" Test İstatistiği = %.4f\\n P-value = %.4f\" % (test_istatistigi, pvalue))"
   ]
  },
  {
   "cell_type": "code",
   "execution_count": 27,
   "metadata": {},
   "outputs": [
    {
     "data": {
      "text/plain": [
       "Ttest_relResult(statistic=-23.722310075327155, pvalue=4.979876682726434e-99)"
      ]
     },
     "execution_count": 27,
     "metadata": {},
     "output_type": "execute_result"
    }
   ],
   "source": [
    "stats.ttest_rel(df[df.Durum == \"ilk\"].Score, df[df.Durum == \"son\"].Score)"
   ]
  },
  {
   "cell_type": "code",
   "execution_count": 28,
   "metadata": {},
   "outputs": [
    {
     "name": "stdout",
     "output_type": "stream",
     "text": [
      " Test İstatistiği = -23.7223\n",
      " P-value = 0.0000\n"
     ]
    }
   ],
   "source": [
    "test_istatistigi, pvalue = stats.ttest_rel(df[df.Durum == \"ilk\"].Score, df[df.Durum == \"son\"].Score)\n",
    "print(\" Test İstatistiği = %.4f\\n P-value = %.4f\" % (test_istatistigi, pvalue))"
   ]
  },
  {
   "cell_type": "markdown",
   "metadata": {},
   "source": [
    "# Nonparametrik Bağımlı İki Örneklem Testi"
   ]
  },
  {
   "cell_type": "code",
   "execution_count": 29,
   "metadata": {},
   "outputs": [
    {
     "data": {
      "text/plain": [
       "WilcoxonResult(statistic=72422.0, pvalue=2.1545452217733784e-84)"
      ]
     },
     "execution_count": 29,
     "metadata": {},
     "output_type": "execute_result"
    }
   ],
   "source": [
    "stats.wilcoxon(df[df.Durum == \"ilk\"].Score, df[df.Durum == \"son\"].Score)"
   ]
  },
  {
   "cell_type": "code",
   "execution_count": 30,
   "metadata": {},
   "outputs": [
    {
     "name": "stdout",
     "output_type": "stream",
     "text": [
      " Test İstatistiği = 72422.0000\n",
      " P-value = 0.0000\n"
     ]
    }
   ],
   "source": [
    "test_istatistigi, pvalue = stats.wilcoxon(df[df.Durum == \"ilk\"].Score, df[df.Durum == \"son\"].Score)\n",
    "print(\" Test İstatistiği = %.4f\\n P-value = %.4f\" % (test_istatistigi, pvalue))"
   ]
  },
  {
   "cell_type": "markdown",
   "metadata": {},
   "source": [
    "# İki Örneklem Oran Testi\n",
    "\n",
    "- İki oran arasında karşılaştırma yapmak için kullanılır.\n",
    "- Hipotezler\n",
    "- z \n",
    "- varsayımlar"
   ]
  },
  {
   "cell_type": "code",
   "execution_count": 31,
   "metadata": {},
   "outputs": [],
   "source": [
    "from statsmodels.stats.proportion import proportions_ztest"
   ]
  },
  {
   "cell_type": "code",
   "execution_count": 32,
   "metadata": {},
   "outputs": [],
   "source": [
    "import numpy as np\n",
    "basari_sayisi = np.array([300, 250])\n",
    "gozlem_sayilari = np.array([1000,1100])"
   ]
  },
  {
   "cell_type": "code",
   "execution_count": 33,
   "metadata": {},
   "outputs": [
    {
     "data": {
      "text/plain": [
       "(3.7857863233209255, 0.0001532232957772221)"
      ]
     },
     "execution_count": 33,
     "metadata": {},
     "output_type": "execute_result"
    }
   ],
   "source": [
    "proportions_ztest(count=basari_sayisi, nobs=gozlem_sayilari)"
   ]
  },
  {
   "cell_type": "markdown",
   "metadata": {},
   "source": [
    "# Varyans Analizi (ANOVA)\n",
    "- İki ya da daha fazla grup ortalaması arasında istatistiksel olarak anlamlı farklılık olup olmadığı öğrenilmek istenildiğinde kullanılır.\n",
    "- Hipotezler\n",
    "    * Eşitlik üzerine kurulur\n",
    "        - ${h_0: \\mu_1 = \\mu_2 = \\mu_3}$\n",
    "        - ${h_1: \\mu \\neq \\mu_n}$\n",
    "- Grand mean: genel ortalaması \n",
    "- mean: grup ortalaması\n",
    "- within group \n",
    "    * Farklı popülasyonlara ait farklı gruplar arasındaki farkın tespit edilmesinde kullanılır\n",
    "- between group\n",
    "    * Aynı popülasyona ait farklı gruplar arasındaki farkı tespit edilmesinde kullanırlır \n",
    "- Varsayımlar\n",
    " * Bağımsız değişken 2 veya daha fazla kategoriden oluşmalıdır. Yani iki veya daha fazla grup olmalı\n",
    " * Gruplar birbirinden bağımsız olmalıdır\n",
    " * Bağımlı değişken aralık veya oran içeren değerlerden oluşmalıdır(sürekli veriler) \n",
    " * Bağımlı değişken her bir kategori için normal dağılım göstermelidir. Bazı durumlarda artık değrlerinin normal dağılması bu varsaım  sağlayabilmektedir\n",
    " * Gruplar varyans homejenliğini sağlamalıdır\n",
    " "
   ]
  },
  {
   "cell_type": "code",
   "execution_count": 91,
   "metadata": {},
   "outputs": [
    {
     "data": {
      "text/html": [
       "<div>\n",
       "<style scoped>\n",
       "    .dataframe tbody tr th:only-of-type {\n",
       "        vertical-align: middle;\n",
       "    }\n",
       "\n",
       "    .dataframe tbody tr th {\n",
       "        vertical-align: top;\n",
       "    }\n",
       "\n",
       "    .dataframe thead th {\n",
       "        text-align: right;\n",
       "    }\n",
       "</style>\n",
       "<table border=\"1\" class=\"dataframe\">\n",
       "  <thead>\n",
       "    <tr style=\"text-align: right;\">\n",
       "      <th></th>\n",
       "      <th>A</th>\n",
       "      <th>B</th>\n",
       "      <th>C</th>\n",
       "    </tr>\n",
       "  </thead>\n",
       "  <tbody>\n",
       "    <tr>\n",
       "      <th>0</th>\n",
       "      <td>65.148170</td>\n",
       "      <td>64.139987</td>\n",
       "      <td>58.353592</td>\n",
       "    </tr>\n",
       "    <tr>\n",
       "      <th>1</th>\n",
       "      <td>66.626714</td>\n",
       "      <td>58.314032</td>\n",
       "      <td>88.816337</td>\n",
       "    </tr>\n",
       "    <tr>\n",
       "      <th>2</th>\n",
       "      <td>52.686417</td>\n",
       "      <td>34.979075</td>\n",
       "      <td>72.462163</td>\n",
       "    </tr>\n",
       "    <tr>\n",
       "      <th>3</th>\n",
       "      <td>50.118872</td>\n",
       "      <td>48.748952</td>\n",
       "      <td>80.130607</td>\n",
       "    </tr>\n",
       "    <tr>\n",
       "      <th>4</th>\n",
       "      <td>58.541072</td>\n",
       "      <td>59.432978</td>\n",
       "      <td>63.541456</td>\n",
       "    </tr>\n",
       "  </tbody>\n",
       "</table>\n",
       "</div>"
      ],
      "text/plain": [
       "           A          B          C\n",
       "0  65.148170  64.139987  58.353592\n",
       "1  66.626714  58.314032  88.816337\n",
       "2  52.686417  34.979075  72.462163\n",
       "3  50.118872  48.748952  80.130607\n",
       "4  58.541072  59.432978  63.541456"
      ]
     },
     "execution_count": 91,
     "metadata": {},
     "output_type": "execute_result"
    }
   ],
   "source": [
    "A = pd.DataFrame(np.random.normal(50, 10, 1000))\n",
    "B = pd.DataFrame(np.random.normal(60, 10, 1000))\n",
    "C = pd.DataFrame(np.random.normal(70, 10, 1000))\n",
    "\n",
    "dfs = [A, B, C]\n",
    "ABC = pd.concat(dfs, axis=1)\n",
    "ABC.columns = [\"A\", \"B\", \"C\"]\n",
    "ABC.head()"
   ]
  },
  {
   "cell_type": "code",
   "execution_count": 87,
   "metadata": {},
   "outputs": [],
   "source": [
    "data = pd.concat([A,B,C], axis=0)"
   ]
  },
  {
   "cell_type": "code",
   "execution_count": 35,
   "metadata": {},
   "outputs": [
    {
     "data": {
      "text/html": [
       "<div>\n",
       "<style scoped>\n",
       "    .dataframe tbody tr th:only-of-type {\n",
       "        vertical-align: middle;\n",
       "    }\n",
       "\n",
       "    .dataframe tbody tr th {\n",
       "        vertical-align: top;\n",
       "    }\n",
       "\n",
       "    .dataframe thead th {\n",
       "        text-align: right;\n",
       "    }\n",
       "</style>\n",
       "<table border=\"1\" class=\"dataframe\">\n",
       "  <thead>\n",
       "    <tr style=\"text-align: right;\">\n",
       "      <th></th>\n",
       "      <th>count</th>\n",
       "      <th>mean</th>\n",
       "      <th>std</th>\n",
       "      <th>min</th>\n",
       "      <th>25%</th>\n",
       "      <th>50%</th>\n",
       "      <th>75%</th>\n",
       "      <th>max</th>\n",
       "    </tr>\n",
       "  </thead>\n",
       "  <tbody>\n",
       "    <tr>\n",
       "      <th>A</th>\n",
       "      <td>1000.0</td>\n",
       "      <td>49.263353</td>\n",
       "      <td>10.305366</td>\n",
       "      <td>16.204409</td>\n",
       "      <td>42.164313</td>\n",
       "      <td>49.230199</td>\n",
       "      <td>56.310088</td>\n",
       "      <td>83.626594</td>\n",
       "    </tr>\n",
       "    <tr>\n",
       "      <th>B</th>\n",
       "      <td>1000.0</td>\n",
       "      <td>59.771437</td>\n",
       "      <td>10.404958</td>\n",
       "      <td>24.101008</td>\n",
       "      <td>53.043797</td>\n",
       "      <td>59.758226</td>\n",
       "      <td>67.040389</td>\n",
       "      <td>90.998331</td>\n",
       "    </tr>\n",
       "    <tr>\n",
       "      <th>C</th>\n",
       "      <td>1000.0</td>\n",
       "      <td>70.310510</td>\n",
       "      <td>10.457666</td>\n",
       "      <td>38.083647</td>\n",
       "      <td>62.815891</td>\n",
       "      <td>70.234142</td>\n",
       "      <td>77.975970</td>\n",
       "      <td>102.227778</td>\n",
       "    </tr>\n",
       "  </tbody>\n",
       "</table>\n",
       "</div>"
      ],
      "text/plain": [
       "    count       mean        std        min        25%        50%        75%  \\\n",
       "A  1000.0  49.263353  10.305366  16.204409  42.164313  49.230199  56.310088   \n",
       "B  1000.0  59.771437  10.404958  24.101008  53.043797  59.758226  67.040389   \n",
       "C  1000.0  70.310510  10.457666  38.083647  62.815891  70.234142  77.975970   \n",
       "\n",
       "          max  \n",
       "A   83.626594  \n",
       "B   90.998331  \n",
       "C  102.227778  "
      ]
     },
     "execution_count": 35,
     "metadata": {},
     "output_type": "execute_result"
    }
   ],
   "source": [
    "ABC.describe().T"
   ]
  },
  {
   "cell_type": "code",
   "execution_count": 36,
   "metadata": {},
   "outputs": [
    {
     "name": "stdout",
     "output_type": "stream",
     "text": [
      "A Mean 0    49.263353\n",
      "dtype: float64\n",
      "B Mean 0    59.771437\n",
      "dtype: float64\n",
      "C Mean 0    70.31051\n",
      "dtype: float64\n"
     ]
    }
   ],
   "source": [
    "# Mean\n",
    "print(\"A Mean\", A.mean())\n",
    "print(\"B Mean\", B.mean())\n",
    "print(\"C Mean\", C.mean())"
   ]
  },
  {
   "cell_type": "code",
   "execution_count": 37,
   "metadata": {},
   "outputs": [
    {
     "name": "stdout",
     "output_type": "stream",
     "text": [
      "Geand Mean 0    59.781767\n",
      "dtype: float64\n"
     ]
    }
   ],
   "source": [
    "# Grand Mean\n",
    "print(\"Geand Mean\", ((A.mean() + B.mean() + C.mean())/3))"
   ]
  },
  {
   "cell_type": "code",
   "execution_count": 38,
   "metadata": {},
   "outputs": [
    {
     "name": "stdout",
     "output_type": "stream",
     "text": [
      "A ShapiroResult(statistic=0.9989649057388306, pvalue=0.854517936706543)\n",
      "B ShapiroResult(statistic=0.9980486035346985, pvalue=0.3035885691642761)\n",
      "C ShapiroResult(statistic=0.998164176940918, pvalue=0.35833999514579773)\n"
     ]
    }
   ],
   "source": [
    "# Varsayım kontrolü \n",
    "# Normallik kontrolü\n",
    "print(\"A\", shapiro(ABC.A))\n",
    "print(\"B\", shapiro(ABC.B))\n",
    "print(\"C\", shapiro(ABC.C))"
   ]
  },
  {
   "cell_type": "code",
   "execution_count": 39,
   "metadata": {},
   "outputs": [
    {
     "data": {
      "text/plain": [
       "LeveneResult(statistic=0.7013970740092087, pvalue=0.49597340377823995)"
      ]
     },
     "execution_count": 39,
     "metadata": {},
     "output_type": "execute_result"
    }
   ],
   "source": [
    "# Homojenlik Kontolü\n",
    "stats.levene(ABC.A, ABC.B, ABC.C)"
   ]
  },
  {
   "cell_type": "code",
   "execution_count": 40,
   "metadata": {},
   "outputs": [
    {
     "data": {
      "text/plain": [
       "F_onewayResult(statistic=1025.9733180491426, pvalue=0.0)"
      ]
     },
     "execution_count": 40,
     "metadata": {},
     "output_type": "execute_result"
    }
   ],
   "source": [
    "from scipy.stats import f_oneway\n",
    "f_oneway(ABC.A, ABC.B, ABC.C)"
   ]
  },
  {
   "cell_type": "code",
   "execution_count": 41,
   "metadata": {},
   "outputs": [
    {
     "name": "stdout",
     "output_type": "stream",
     "text": [
      " Test İstatistiği = 1025.9733\n",
      " P-value = 0.0000\n"
     ]
    }
   ],
   "source": [
    "test_istatistigi, pvalue = f_oneway(ABC.A, ABC.B, ABC.C)\n",
    "print(\" Test İstatistiği = %.4f\\n P-value = %.4f\" % (test_istatistigi, pvalue))"
   ]
  },
  {
   "cell_type": "code",
   "execution_count": 42,
   "metadata": {},
   "outputs": [
    {
     "data": {
      "text/plain": [
       "KruskalResult(statistic=1253.9371712175944, pvalue=5.140471355037448e-273)"
      ]
     },
     "execution_count": 42,
     "metadata": {},
     "output_type": "execute_result"
    }
   ],
   "source": [
    "# Nonparametrik hipotez testi\n",
    "from scipy.stats import kruskal\n",
    "kruskal(ABC.A, ABC.B, ABC.C)"
   ]
  },
  {
   "cell_type": "code",
   "execution_count": 43,
   "metadata": {},
   "outputs": [
    {
     "name": "stdout",
     "output_type": "stream",
     "text": [
      " Test İstatistiği = 1253.9372\n",
      " P-value = 0.0000\n"
     ]
    }
   ],
   "source": [
    "test_istatistigi, pvalue = kruskal(ABC.A, ABC.B, ABC.C)\n",
    "print(\" Test İstatistiği = %.4f\\n P-value = %.4f\" % (test_istatistigi, pvalue))"
   ]
  },
  {
   "cell_type": "markdown",
   "metadata": {},
   "source": [
    "# Korelasyon Analizi\n",
    "\n",
    "- Değişkenler arasındaki ilişki, bu ilişkinin yönü ve şiddeti hakkında bilgi verir.\n",
    "- katsayılar (1,-1)\n",
    "- hipotezler\n",
    "- r ve t \n",
    "- varsayımlar"
   ]
  },
  {
   "cell_type": "code",
   "execution_count": 44,
   "metadata": {},
   "outputs": [
    {
     "data": {
      "text/html": [
       "<div>\n",
       "<style scoped>\n",
       "    .dataframe tbody tr th:only-of-type {\n",
       "        vertical-align: middle;\n",
       "    }\n",
       "\n",
       "    .dataframe tbody tr th {\n",
       "        vertical-align: top;\n",
       "    }\n",
       "\n",
       "    .dataframe thead th {\n",
       "        text-align: right;\n",
       "    }\n",
       "</style>\n",
       "<table border=\"1\" class=\"dataframe\">\n",
       "  <thead>\n",
       "    <tr style=\"text-align: right;\">\n",
       "      <th></th>\n",
       "      <th>total_bill</th>\n",
       "      <th>tip</th>\n",
       "      <th>sex</th>\n",
       "      <th>smoker</th>\n",
       "      <th>day</th>\n",
       "      <th>time</th>\n",
       "      <th>size</th>\n",
       "    </tr>\n",
       "  </thead>\n",
       "  <tbody>\n",
       "    <tr>\n",
       "      <th>0</th>\n",
       "      <td>16.99</td>\n",
       "      <td>1.01</td>\n",
       "      <td>Female</td>\n",
       "      <td>No</td>\n",
       "      <td>Sun</td>\n",
       "      <td>Dinner</td>\n",
       "      <td>2</td>\n",
       "    </tr>\n",
       "    <tr>\n",
       "      <th>1</th>\n",
       "      <td>10.34</td>\n",
       "      <td>1.66</td>\n",
       "      <td>Male</td>\n",
       "      <td>No</td>\n",
       "      <td>Sun</td>\n",
       "      <td>Dinner</td>\n",
       "      <td>3</td>\n",
       "    </tr>\n",
       "    <tr>\n",
       "      <th>2</th>\n",
       "      <td>21.01</td>\n",
       "      <td>3.50</td>\n",
       "      <td>Male</td>\n",
       "      <td>No</td>\n",
       "      <td>Sun</td>\n",
       "      <td>Dinner</td>\n",
       "      <td>3</td>\n",
       "    </tr>\n",
       "    <tr>\n",
       "      <th>3</th>\n",
       "      <td>23.68</td>\n",
       "      <td>3.31</td>\n",
       "      <td>Male</td>\n",
       "      <td>No</td>\n",
       "      <td>Sun</td>\n",
       "      <td>Dinner</td>\n",
       "      <td>2</td>\n",
       "    </tr>\n",
       "    <tr>\n",
       "      <th>4</th>\n",
       "      <td>24.59</td>\n",
       "      <td>3.61</td>\n",
       "      <td>Female</td>\n",
       "      <td>No</td>\n",
       "      <td>Sun</td>\n",
       "      <td>Dinner</td>\n",
       "      <td>4</td>\n",
       "    </tr>\n",
       "  </tbody>\n",
       "</table>\n",
       "</div>"
      ],
      "text/plain": [
       "   total_bill   tip     sex smoker  day    time  size\n",
       "0       16.99  1.01  Female     No  Sun  Dinner     2\n",
       "1       10.34  1.66    Male     No  Sun  Dinner     3\n",
       "2       21.01  3.50    Male     No  Sun  Dinner     3\n",
       "3       23.68  3.31    Male     No  Sun  Dinner     2\n",
       "4       24.59  3.61  Female     No  Sun  Dinner     4"
      ]
     },
     "execution_count": 44,
     "metadata": {},
     "output_type": "execute_result"
    }
   ],
   "source": [
    "import seaborn as sns\n",
    "tips = sns.load_dataset(\"tips\")\n",
    "df = tips.copy()\n",
    "df.head()"
   ]
  },
  {
   "cell_type": "code",
   "execution_count": 45,
   "metadata": {},
   "outputs": [
    {
     "data": {
      "text/html": [
       "<div>\n",
       "<style scoped>\n",
       "    .dataframe tbody tr th:only-of-type {\n",
       "        vertical-align: middle;\n",
       "    }\n",
       "\n",
       "    .dataframe tbody tr th {\n",
       "        vertical-align: top;\n",
       "    }\n",
       "\n",
       "    .dataframe thead th {\n",
       "        text-align: right;\n",
       "    }\n",
       "</style>\n",
       "<table border=\"1\" class=\"dataframe\">\n",
       "  <thead>\n",
       "    <tr style=\"text-align: right;\">\n",
       "      <th></th>\n",
       "      <th>total_bill</th>\n",
       "      <th>tip</th>\n",
       "      <th>sex</th>\n",
       "      <th>smoker</th>\n",
       "      <th>day</th>\n",
       "      <th>time</th>\n",
       "      <th>size</th>\n",
       "    </tr>\n",
       "  </thead>\n",
       "  <tbody>\n",
       "    <tr>\n",
       "      <th>0</th>\n",
       "      <td>15.98</td>\n",
       "      <td>1.01</td>\n",
       "      <td>Female</td>\n",
       "      <td>No</td>\n",
       "      <td>Sun</td>\n",
       "      <td>Dinner</td>\n",
       "      <td>2</td>\n",
       "    </tr>\n",
       "    <tr>\n",
       "      <th>1</th>\n",
       "      <td>8.68</td>\n",
       "      <td>1.66</td>\n",
       "      <td>Male</td>\n",
       "      <td>No</td>\n",
       "      <td>Sun</td>\n",
       "      <td>Dinner</td>\n",
       "      <td>3</td>\n",
       "    </tr>\n",
       "    <tr>\n",
       "      <th>2</th>\n",
       "      <td>17.51</td>\n",
       "      <td>3.50</td>\n",
       "      <td>Male</td>\n",
       "      <td>No</td>\n",
       "      <td>Sun</td>\n",
       "      <td>Dinner</td>\n",
       "      <td>3</td>\n",
       "    </tr>\n",
       "    <tr>\n",
       "      <th>3</th>\n",
       "      <td>20.37</td>\n",
       "      <td>3.31</td>\n",
       "      <td>Male</td>\n",
       "      <td>No</td>\n",
       "      <td>Sun</td>\n",
       "      <td>Dinner</td>\n",
       "      <td>2</td>\n",
       "    </tr>\n",
       "    <tr>\n",
       "      <th>4</th>\n",
       "      <td>20.98</td>\n",
       "      <td>3.61</td>\n",
       "      <td>Female</td>\n",
       "      <td>No</td>\n",
       "      <td>Sun</td>\n",
       "      <td>Dinner</td>\n",
       "      <td>4</td>\n",
       "    </tr>\n",
       "  </tbody>\n",
       "</table>\n",
       "</div>"
      ],
      "text/plain": [
       "   total_bill   tip     sex smoker  day    time  size\n",
       "0       15.98  1.01  Female     No  Sun  Dinner     2\n",
       "1        8.68  1.66    Male     No  Sun  Dinner     3\n",
       "2       17.51  3.50    Male     No  Sun  Dinner     3\n",
       "3       20.37  3.31    Male     No  Sun  Dinner     2\n",
       "4       20.98  3.61  Female     No  Sun  Dinner     4"
      ]
     },
     "execution_count": 45,
     "metadata": {},
     "output_type": "execute_result"
    }
   ],
   "source": [
    "df[\"total_bill\"] = df[\"total_bill\"] - df[\"tip\"]\n",
    "df.head()"
   ]
  },
  {
   "cell_type": "code",
   "execution_count": 46,
   "metadata": {},
   "outputs": [
    {
     "data": {
      "text/plain": [
       "<AxesSubplot:xlabel='tip', ylabel='total_bill'>"
      ]
     },
     "execution_count": 46,
     "metadata": {},
     "output_type": "execute_result"
    },
    {
     "data": {
      "image/png": "[encoded data removed]",
      "text/plain": [
       "<Figure size 432x288 with 1 Axes>"
      ]
     },
     "metadata": {
      "needs_background": "light"
     },
     "output_type": "display_data"
    }
   ],
   "source": [
    "df.plot.scatter(\"tip\", \"total_bill\")"
   ]
  },
  {
   "cell_type": "code",
   "execution_count": 47,
   "metadata": {},
   "outputs": [
    {
     "data": {
      "text/plain": [
       "ShapiroResult(statistic=0.897811233997345, pvalue=8.20057563521992e-12)"
      ]
     },
     "execution_count": 47,
     "metadata": {},
     "output_type": "execute_result"
    }
   ],
   "source": [
    "shapiro(df.tip)"
   ]
  },
  {
   "cell_type": "code",
   "execution_count": 48,
   "metadata": {},
   "outputs": [
    {
     "data": {
      "text/plain": [
       "ShapiroResult(statistic=0.9135652184486389, pvalue=1.1060377613780759e-10)"
      ]
     },
     "execution_count": 48,
     "metadata": {},
     "output_type": "execute_result"
    }
   ],
   "source": [
    "shapiro(df.total_bill)"
   ]
  },
  {
   "cell_type": "code",
   "execution_count": 49,
   "metadata": {},
   "outputs": [
    {
     "data": {
      "text/plain": [
       "0.5766634471096374"
      ]
     },
     "execution_count": 49,
     "metadata": {},
     "output_type": "execute_result"
    }
   ],
   "source": [
    "df[\"tip\"].corr(df[\"total_bill\"])"
   ]
  },
  {
   "cell_type": "code",
   "execution_count": 50,
   "metadata": {},
   "outputs": [
    {
     "data": {
      "text/plain": [
       "0.593691939408997"
      ]
     },
     "execution_count": 50,
     "metadata": {},
     "output_type": "execute_result"
    }
   ],
   "source": [
    "df[\"tip\"].corr(df[\"total_bill\"], method=\"spearman\")"
   ]
  },
  {
   "cell_type": "code",
   "execution_count": 51,
   "metadata": {},
   "outputs": [],
   "source": [
    "from scipy.stats import pearsonr"
   ]
  },
  {
   "cell_type": "code",
   "execution_count": 52,
   "metadata": {},
   "outputs": [
    {
     "name": "stdout",
     "output_type": "stream",
     "text": [
      " Korelasyon Katsayısı = 0.5767\n",
      " P-value = 0.0000\n"
     ]
    }
   ],
   "source": [
    "test_istatistigi, pvalue = pearsonr(df.tip, df.total_bill)\n",
    "print(\" Korelasyon Katsayısı = %.4f\\n P-value = %.4f\" % (test_istatistigi, pvalue))"
   ]
  },
  {
   "cell_type": "code",
   "execution_count": 53,
   "metadata": {},
   "outputs": [
    {
     "data": {
      "text/plain": [
       "SpearmanrResult(correlation=0.593691939408997, pvalue=1.2452285137560276e-24)"
      ]
     },
     "execution_count": 53,
     "metadata": {},
     "output_type": "execute_result"
    }
   ],
   "source": [
    "stats.spearmanr(df.tip, df.total_bill)"
   ]
  },
  {
   "cell_type": "code",
   "execution_count": 54,
   "metadata": {},
   "outputs": [
    {
     "name": "stdout",
     "output_type": "stream",
     "text": [
      " Korelasyon Katsayısı = 0.5937\n",
      " P-value = 0.0000\n"
     ]
    }
   ],
   "source": [
    "test_istatistigi, pvalue = stats.spearmanr(df.tip, df.total_bill)\n",
    "print(\" Korelasyon Katsayısı = %.4f\\n P-value = %.4f\" % (test_istatistigi, pvalue))"
   ]
  },
  {
   "cell_type": "code",
   "execution_count": 55,
   "metadata": {},
   "outputs": [
    {
     "data": {
      "text/plain": [
       "KendalltauResult(correlation=0.4400790074919885, pvalue=7.131027725873721e-24)"
      ]
     },
     "execution_count": 55,
     "metadata": {},
     "output_type": "execute_result"
    }
   ],
   "source": [
    "stats.kendalltau(df.tip, df.total_bill)"
   ]
  },
  {
   "cell_type": "code",
   "execution_count": 56,
   "metadata": {},
   "outputs": [
    {
     "name": "stdout",
     "output_type": "stream",
     "text": [
      " Korelasyon Katsayısı = 0.4401\n",
      " P-value = 0.0000\n"
     ]
    }
   ],
   "source": [
    "test_istatistigi, pvalue = stats.kendalltau(df.tip, df.total_bill)\n",
    "print(\" Korelasyon Katsayısı = %.4f\\n P-value = %.4f\" % (test_istatistigi, pvalue))"
   ]
  },
  {
   "cell_type": "markdown",
   "metadata": {},
   "source": [
    "# Chi-Square Analizi\n",
    "\n",
    "- gözlenen ve beklenen frekanslar arasındaki farkın anlamlı olup olmadığını test etmek için kullanırlır.\n",
    "- formül"
   ]
  },
  {
   "cell_type": "code",
   "execution_count": 57,
   "metadata": {},
   "outputs": [
    {
     "name": "stdout",
     "output_type": "stream",
     "text": [
      "44\n",
      "7.333333333333333\n",
      "11.90909090909091\n"
     ]
    }
   ],
   "source": [
    "sample = np.array([2,4,14,7,8,9])\n",
    "print(np.sum(sample))\n",
    "expected = np.sum(sample) / len(sample)\n",
    "print(expected)\n",
    "chi_value = np.sum(((sample - expected)**2)/expected)\n",
    "print(chi_value)"
   ]
  },
  {
   "cell_type": "code",
   "execution_count": 58,
   "metadata": {},
   "outputs": [
    {
     "name": "stdout",
     "output_type": "stream",
     "text": [
      "12.59158724374398\n"
     ]
    }
   ],
   "source": [
    "from scipy.stats import chi2\n",
    "print(chi2.isf(0.05, 6))"
   ]
  },
  {
   "cell_type": "markdown",
   "metadata": {},
   "source": [
    "<a id=4></a>\n",
    "## Kaynaklar\n",
    "\n",
    "#### Websiteleri\n",
    "\n",
    "- https://tr.wikipedia.org/wiki/Anasayfa\n",
    "\n",
    "#### Kitaplar\n",
    "\n",
    "- https://web.stanford.edu/~hastie/ElemStatLearn/\n",
    "\n",
    "#### Kurslar\n",
    "\n",
    "- https://www.udemy.com/course/python-egitimi/\n",
    "- https://www.udemy.com/course/istatistik-python-adan-zye-temel-istatistik-bilimi-6/\n"
   ]
  }
 ],
 "metadata": {
  "kernelspec": {
   "display_name": "Python 3",
   "language": "python",
   "name": "python3"
  },
  "language_info": {
   "codemirror_mode": {
    "name": "ipython",
    "version": 3
   },
   "file_extension": ".py",
   "mimetype": "text/x-python",
   "name": "python",
   "nbconvert_exporter": "python",
   "pygments_lexer": "ipython3",
   "version": "3.8.5"
  }
 },
 "nbformat": 4,
 "nbformat_minor": 4
}
