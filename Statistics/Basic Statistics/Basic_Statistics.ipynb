{
 "cells": [
  {
   "cell_type": "markdown",
   "metadata": {},
   "source": [
    "# Temel İstatistik "
   ]
  },
  {
   "cell_type": "markdown",
   "metadata": {},
   "source": [
    "## İçerik\n",
    "1. [Temel Kavramlar ve Örneklem Teorisi](#1)\n",
    "1. [Betimleyici İstatistikler](#2)\n",
    "1. [Güven Aralığı](#3)\n",
    "1. [Kaynaklar](#4)"
   ]
  },
  {
   "cell_type": "markdown",
   "metadata": {},
   "source": [
    "-----"
   ]
  },
  {
   "cell_type": "markdown",
   "metadata": {},
   "source": [
    "<a id=1></a>\n",
    "### 1. Temel Kavramlar   \n",
    "\n",
    "- Değişken ve Değişken Türleri \n",
    "    - Değişken: Her gözlem birimi için farklı değer alan niceliktir.\n",
    "    - Değişken Türleri \n",
    "        * Sayısal Değişkenler (Nicel, kantitatif)\n",
    "        * Kategorik Değişkenler (Nitel, kalitatif)\n",
    "    - Ölçek Türleri \n",
    "        1. Sayısal Ölçek Türleri \n",
    "            1. Aralık\n",
    "                * Başlangıç değeri sıfır olmayan değişkenlerdir. \n",
    "                * Örnek: Sıcaklık\n",
    "            1. Oran\n",
    "                * Başlangıç değeri sıfır olan değişkenlerdir.\n",
    "                * Örnek: Yaş\n",
    "        1. Kategorik ölçek türleri\n",
    "             1. Nominal\n",
    "                * Sıralanamazlar.\n",
    "                * Örnek: Cinsiyet\n",
    "             1. Ordinal\n",
    "                * Sıralanabilirler.\n",
    "                * Örnek: Eğitim durumu\n",
    "                \n",
    "                \n",
    "- Polülasyon, Örneklem ve Gözlem Birimi\n",
    "    - Popülasyon : İlgilenilen hedef kitle. \n",
    "    - Örneklem: Hedef kitle içerisinden seçilen altı kümedir.\n",
    "        * Örneklem yansız olmalı.\n",
    "        * Popülasyonu temsil etmesi gerekir.\n",
    "    - Gözlem birimi: Örneklemin içindeki her bir elemana verilen isimdir.\n",
    "    - Örnek: \n",
    "        * Popülasyon: Türkiyedeki tüm belediyeler\n",
    "        * Örneklem: Türkiyedeki Büyük Şehir Belediyeleri\n",
    "        * Gözlem Birimi: İstanbul Büyük Şehir Belediyesi   "
   ]
  },
  {
   "cell_type": "code",
   "execution_count": 1,
   "metadata": {},
   "outputs": [],
   "source": [
    "# Kütüphaneleri dahil edelim\n",
    "import numpy as np \n",
    "import pandas as pd\n",
    "import seaborn as sns"
   ]
  },
  {
   "cell_type": "code",
   "execution_count": 2,
   "metadata": {},
   "outputs": [
    {
     "data": {
      "text/html": [
       "<div>\n",
       "<style scoped>\n",
       "    .dataframe tbody tr th:only-of-type {\n",
       "        vertical-align: middle;\n",
       "    }\n",
       "\n",
       "    .dataframe tbody tr th {\n",
       "        vertical-align: top;\n",
       "    }\n",
       "\n",
       "    .dataframe thead th {\n",
       "        text-align: right;\n",
       "    }\n",
       "</style>\n",
       "<table border=\"1\" class=\"dataframe\">\n",
       "  <thead>\n",
       "    <tr style=\"text-align: right;\">\n",
       "      <th></th>\n",
       "      <th>total_bill</th>\n",
       "      <th>tip</th>\n",
       "      <th>sex</th>\n",
       "      <th>smoker</th>\n",
       "      <th>day</th>\n",
       "      <th>time</th>\n",
       "      <th>size</th>\n",
       "    </tr>\n",
       "  </thead>\n",
       "  <tbody>\n",
       "    <tr>\n",
       "      <th>0</th>\n",
       "      <td>16.99</td>\n",
       "      <td>1.01</td>\n",
       "      <td>Female</td>\n",
       "      <td>No</td>\n",
       "      <td>Sun</td>\n",
       "      <td>Dinner</td>\n",
       "      <td>2</td>\n",
       "    </tr>\n",
       "    <tr>\n",
       "      <th>1</th>\n",
       "      <td>10.34</td>\n",
       "      <td>1.66</td>\n",
       "      <td>Male</td>\n",
       "      <td>No</td>\n",
       "      <td>Sun</td>\n",
       "      <td>Dinner</td>\n",
       "      <td>3</td>\n",
       "    </tr>\n",
       "    <tr>\n",
       "      <th>2</th>\n",
       "      <td>21.01</td>\n",
       "      <td>3.50</td>\n",
       "      <td>Male</td>\n",
       "      <td>No</td>\n",
       "      <td>Sun</td>\n",
       "      <td>Dinner</td>\n",
       "      <td>3</td>\n",
       "    </tr>\n",
       "    <tr>\n",
       "      <th>3</th>\n",
       "      <td>23.68</td>\n",
       "      <td>3.31</td>\n",
       "      <td>Male</td>\n",
       "      <td>No</td>\n",
       "      <td>Sun</td>\n",
       "      <td>Dinner</td>\n",
       "      <td>2</td>\n",
       "    </tr>\n",
       "    <tr>\n",
       "      <th>4</th>\n",
       "      <td>24.59</td>\n",
       "      <td>3.61</td>\n",
       "      <td>Female</td>\n",
       "      <td>No</td>\n",
       "      <td>Sun</td>\n",
       "      <td>Dinner</td>\n",
       "      <td>4</td>\n",
       "    </tr>\n",
       "  </tbody>\n",
       "</table>\n",
       "</div>"
      ],
      "text/plain": [
       "   total_bill   tip     sex smoker  day    time  size\n",
       "0       16.99  1.01  Female     No  Sun  Dinner     2\n",
       "1       10.34  1.66    Male     No  Sun  Dinner     3\n",
       "2       21.01  3.50    Male     No  Sun  Dinner     3\n",
       "3       23.68  3.31    Male     No  Sun  Dinner     2\n",
       "4       24.59  3.61  Female     No  Sun  Dinner     4"
      ]
     },
     "execution_count": 2,
     "metadata": {},
     "output_type": "execute_result"
    }
   ],
   "source": [
    "tips = sns.load_dataset(\"tips\") # Seaborn Tips veri setini çağıralım\n",
    "df = tips.copy() # Veri setini olası bozulmalara karşı korumak için kopyalayalım\n",
    "df.head() # Veri setinin ilk 5 satırını gözlemleylim"
   ]
  },
  {
   "cell_type": "markdown",
   "metadata": {},
   "source": [
    "Veri setinin değişken türlerine bakalım."
   ]
  },
  {
   "cell_type": "code",
   "execution_count": 3,
   "metadata": {},
   "outputs": [
    {
     "name": "stdout",
     "output_type": "stream",
     "text": [
      "<class 'pandas.core.frame.DataFrame'>\n",
      "RangeIndex: 244 entries, 0 to 243\n",
      "Data columns (total 7 columns):\n",
      " #   Column      Non-Null Count  Dtype   \n",
      "---  ------      --------------  -----   \n",
      " 0   total_bill  244 non-null    float64 \n",
      " 1   tip         244 non-null    float64 \n",
      " 2   sex         244 non-null    category\n",
      " 3   smoker      244 non-null    category\n",
      " 4   day         244 non-null    category\n",
      " 5   time        244 non-null    category\n",
      " 6   size        244 non-null    int64   \n",
      "dtypes: category(4), float64(2), int64(1)\n",
      "memory usage: 7.3 KB\n"
     ]
    }
   ],
   "source": [
    "df.info() # Veri seti hakkında genel bilgileri verir"
   ]
  },
  {
   "cell_type": "markdown",
   "metadata": {},
   "source": [
    "* 244 satır 7 sütundan oluşmaktadır.\n",
    "* Veri setinde 4 kategorik 3 tane ise sayısal değişken bulunmaktadır. \n",
    "* Ölçek türlerine göre değerlendirecek olursak kategorik değişkenlerin hepsi nominal ölçek türüne, sayısal değişkenlerin hepsi ise oran ölçek türüne sahiptir."
   ]
  },
  {
   "cell_type": "markdown",
   "metadata": {},
   "source": [
    "------"
   ]
  },
  {
   "cell_type": "markdown",
   "metadata": {},
   "source": [
    "<a id=2></a>\n",
    "### 2. Betimleyici İstatistikler\n",
    "\n",
    "- Merkezi Eğilim Ölçüleri\n",
    "    * Aritmetik Ortalama\n",
    "    \n",
    "        - Tüm elemanların toplamının eleman sayısına bölümü ile elde edilir.\n",
    "    \n",
    "        ${\\frac{\\displaystyle \\sum_{i=0}^n n_i}{\\huge n}}$  \n",
    "            \n",
    "    * Medyan \n",
    "    \n",
    "        - Elemanların küçükten büyüğe sıranlandıktan sonraki ortanca değeridir.\n",
    "           \n",
    "           Medyan indisi : \n",
    "           ${\\frac{\\displaystyle n+1}{2}}$  \n",
    "    \n",
    "    * Mod\n",
    "    \n",
    "        - Dizide frekansı en yüksek olan değerdir.\n",
    "        \n",
    "    * Ortalama ve Medyan Arasındaki Fark\n",
    "        - Normal dağılım \n",
    "            * Normal dağılım, aynı zamanda Gauss dağılımı veya Gauss tipi dağılım olarak isimlendirilir.\n",
    "            * İstatistiğin büyük bir kısmı normal dağılım temeli üzerine kurulmuştur. \n",
    "            * Normal dağılım gerçek hayata en uygun dağılım olduğundan örneklem üzerinden ana kitle tahminlemesi daha az hatayla olur. \n",
    "        ![title](normaldağılım.png)\n",
    "            \n",
    "        - Veri setinin normal dağılıma sahip olmadı durumlarda veri setini temsil ederken medyan kullanılmalıdır.\n",
    "        - Ortalama aykırı değerlere dayanıklı değilken, medyan aykırı değerler dayanıklık. \n",
    "        ![title](mean_median.png)\n",
    "    \n",
    "    * Katriller\n",
    "    \n",
    "        - Çeyrekler olarak da bilinir.\n",
    "        - Diziyi dört parçaya ayırır.\n",
    "        - Meydan bulunduktan sonra medyandan önceki ve sonraki kısımların medyanın bulunmasıdır.\n",
    "        \n",
    "        ![title](ceyrekler.png)\n",
    "    \n",
    "    * Kovaryans\n",
    "     \n",
    "        - İki değişken arasındaki ilişkinin değişkenlik ölçüsüdür.\n",
    "        \n",
    "        ${ cov(X,Y) = E[ (X - E[X]) (Y - E[E]) ]}$\n",
    "        \n",
    "    * Koralasyon\n",
    "        \n",
    "        - İki değişken arasındaki ilişkiyi, ilişkinin yönünü, şiddetini ve anlamını belirtir.\n",
    "        \n",
    "        ${ r_{xy} = {\\frac{ \\sum x_i y_i - n \\overline{\\rm x} \\: \\overline{\\rm y} }{ {\\sqrt{\\sum x_i^2 - \\overline{\\rm x}^2}  \\sqrt{\\sum y_i^2 - \\overline{\\rm y}^2}} }} }$ \n",
    "        \n",
    "        \n",
    "\n",
    "- Dağılım Ölçüleri\n",
    "    * Değişim Aralığı\n",
    "        - ${ Değişim \\, Aralığı = Maksimum \\, Değer - Minimum \\, Değer}$\n",
    "    * Standart Sapma\n",
    "        - Ortalamadan olan sapmanın genel bir ölçüsüdür. Gözlemlerin ne kadar dağılmış olduğunu ifade eder.\n",
    "        - ${s = {\\sqrt{\\frac{1}{n} {\\sum_{i=1}^n } {(x_i - \\overline{\\rm x})\\,^2} }}}$\n",
    "        \n",
    "        - ${ \\large { \\;\\;\\;\\; \\qquad \\qquad \\qquad \\qquad Popülasyon \\quad Örneklem \\\\\n",
    "             Ortalama \\;\\;\\;\\;\\; \\qquad \\qquad \\qquad \\mu \\qquad \\qquad \\overline{\\rm x} \\\\\n",
    "             StandardSapma \\qquad \\qquad  \\sigma \\qquad \\qquad s}}$\n",
    "    * Varyans\n",
    "        - Standart sapmanın karesidir.\n",
    "        - Gözlemlerin değişkenliğini tanımlar.\n",
    "        - Gözlemlerin örneklemde ne kadar yayıldığını gösteren değerdir.\n",
    "        - Standart sapmadan farkı, standart sapma veri seti içerisindeki gözlemlerin ortalamadan ne kadar uzaklıkta olduğunu tanımlar varyans ise değişkenliğini tanımlar.\n",
    "        - Birden fazla değişkenin dağılımını birbirleri ile kıyaslarken kullanılır.\n",
    "        - ${s^2}$\n",
    "    * Çarpıklık\n",
    "        - Çarpıklık bir değişkenin dağılımının simetrik olup olmadığını anlamamızı sağlar.\n",
    "        - Çarpıklık olması durumunda ortalama yerine medyan kullanılarak analiz yapılması daha doğru olur.\n",
    "        - Çarpıklık durumu Pearson Çarpıklık Katsayısı ile belirlenir. \n",
    "        - Pearson Çarpıklık Katsayısı = ${{\\frac {3(\\,\\overline{\\rm x} - medyan)}{standart sapma}}}$\n",
    "            - Pearson Çarpıklık katsayısı (-1,1) aralığında değer alır.\n",
    "            - PÇK < 0 ise Negatif Çarpık (Soldan)\n",
    "            - PÇK > 0 ise Pozitif Çarpık (Sağdan)\n",
    "            - PÇK = 0 ise Simetrik\n",
    "            ![title](çarpıklık.png)\n",
    "        - Not: Pearson Çarpıklık Katsayısı aykırı değerler karşı dayanıklı değildir. Aykırı değerler sahip veri seti üzerinde çalışıyorsak Spearman Rank Katsayısı kullanılabilir.\n",
    "    * Basıklık\n",
    "        - Dağılımın sivri mi yoksa basık mı olduğunu belirtir.\n",
    "        - Basıklık Katsayısı = ${\\frac{\\mu_4}{s^4}} $ \n",
    "        $\\\\ \\\\ \\mu_4 \\, -> Ortalama\\, etrafındaki\\, 4.\\, moment$   \n",
    "        $\\\\ s \\, -> standart\\, sapma$  \n",
    "            - Basıklık Katsayısı < 3 ise dağılım basıktır.\n",
    "            - Basıklık Katsayısı > 3 ise dağılım sivridir.\n",
    "            - Basıklık Katsayısı = 3 ise standart normal dağılıma sahiptir.\n",
    "        ![title](basıklık.png)"
   ]
  },
  {
   "cell_type": "code",
   "execution_count": 4,
   "metadata": {},
   "outputs": [
    {
     "data": {
      "text/html": [
       "<div>\n",
       "<style scoped>\n",
       "    .dataframe tbody tr th:only-of-type {\n",
       "        vertical-align: middle;\n",
       "    }\n",
       "\n",
       "    .dataframe tbody tr th {\n",
       "        vertical-align: top;\n",
       "    }\n",
       "\n",
       "    .dataframe thead th {\n",
       "        text-align: right;\n",
       "    }\n",
       "</style>\n",
       "<table border=\"1\" class=\"dataframe\">\n",
       "  <thead>\n",
       "    <tr style=\"text-align: right;\">\n",
       "      <th></th>\n",
       "      <th>count</th>\n",
       "      <th>mean</th>\n",
       "      <th>std</th>\n",
       "      <th>min</th>\n",
       "      <th>25%</th>\n",
       "      <th>50%</th>\n",
       "      <th>75%</th>\n",
       "      <th>max</th>\n",
       "    </tr>\n",
       "  </thead>\n",
       "  <tbody>\n",
       "    <tr>\n",
       "      <th>total_bill</th>\n",
       "      <td>244.0</td>\n",
       "      <td>19.785943</td>\n",
       "      <td>8.902412</td>\n",
       "      <td>3.07</td>\n",
       "      <td>13.3475</td>\n",
       "      <td>17.795</td>\n",
       "      <td>24.1275</td>\n",
       "      <td>50.81</td>\n",
       "    </tr>\n",
       "    <tr>\n",
       "      <th>tip</th>\n",
       "      <td>244.0</td>\n",
       "      <td>2.998279</td>\n",
       "      <td>1.383638</td>\n",
       "      <td>1.00</td>\n",
       "      <td>2.0000</td>\n",
       "      <td>2.900</td>\n",
       "      <td>3.5625</td>\n",
       "      <td>10.00</td>\n",
       "    </tr>\n",
       "    <tr>\n",
       "      <th>size</th>\n",
       "      <td>244.0</td>\n",
       "      <td>2.569672</td>\n",
       "      <td>0.951100</td>\n",
       "      <td>1.00</td>\n",
       "      <td>2.0000</td>\n",
       "      <td>2.000</td>\n",
       "      <td>3.0000</td>\n",
       "      <td>6.00</td>\n",
       "    </tr>\n",
       "  </tbody>\n",
       "</table>\n",
       "</div>"
      ],
      "text/plain": [
       "            count       mean       std   min      25%     50%      75%    max\n",
       "total_bill  244.0  19.785943  8.902412  3.07  13.3475  17.795  24.1275  50.81\n",
       "tip         244.0   2.998279  1.383638  1.00   2.0000   2.900   3.5625  10.00\n",
       "size        244.0   2.569672  0.951100  1.00   2.0000   2.000   3.0000   6.00"
      ]
     },
     "execution_count": 4,
     "metadata": {},
     "output_type": "execute_result"
    }
   ],
   "source": [
    "df.describe().T # describe fonsiyonu veri seti hakkındaki betimleyici istatistikleri bize sunar."
   ]
  },
  {
   "cell_type": "code",
   "execution_count": 5,
   "metadata": {},
   "outputs": [],
   "source": [
    "# !pip install researcpy\n",
    "# Resarchpy kütüphanesi betimleyici istatistikler hakkında daha fazla bilgi sunar\n",
    "import researchpy as rp"
   ]
  },
  {
   "cell_type": "code",
   "execution_count": 6,
   "metadata": {},
   "outputs": [
    {
     "name": "stdout",
     "output_type": "stream",
     "text": [
      "\n",
      "\n"
     ]
    },
    {
     "data": {
      "text/html": [
       "<div>\n",
       "<style scoped>\n",
       "    .dataframe tbody tr th:only-of-type {\n",
       "        vertical-align: middle;\n",
       "    }\n",
       "\n",
       "    .dataframe tbody tr th {\n",
       "        vertical-align: top;\n",
       "    }\n",
       "\n",
       "    .dataframe thead th {\n",
       "        text-align: right;\n",
       "    }\n",
       "</style>\n",
       "<table border=\"1\" class=\"dataframe\">\n",
       "  <thead>\n",
       "    <tr style=\"text-align: right;\">\n",
       "      <th></th>\n",
       "      <th>Variable</th>\n",
       "      <th>N</th>\n",
       "      <th>Mean</th>\n",
       "      <th>SD</th>\n",
       "      <th>SE</th>\n",
       "      <th>95% Conf.</th>\n",
       "      <th>Interval</th>\n",
       "    </tr>\n",
       "  </thead>\n",
       "  <tbody>\n",
       "    <tr>\n",
       "      <th>0</th>\n",
       "      <td>total_bill</td>\n",
       "      <td>244.0</td>\n",
       "      <td>19.7859</td>\n",
       "      <td>8.9024</td>\n",
       "      <td>0.5699</td>\n",
       "      <td>18.6633</td>\n",
       "      <td>20.9086</td>\n",
       "    </tr>\n",
       "    <tr>\n",
       "      <th>1</th>\n",
       "      <td>tip</td>\n",
       "      <td>244.0</td>\n",
       "      <td>2.9983</td>\n",
       "      <td>1.3836</td>\n",
       "      <td>0.0886</td>\n",
       "      <td>2.8238</td>\n",
       "      <td>3.1728</td>\n",
       "    </tr>\n",
       "    <tr>\n",
       "      <th>2</th>\n",
       "      <td>size</td>\n",
       "      <td>244.0</td>\n",
       "      <td>2.5697</td>\n",
       "      <td>0.9511</td>\n",
       "      <td>0.0609</td>\n",
       "      <td>2.4497</td>\n",
       "      <td>2.6896</td>\n",
       "    </tr>\n",
       "  </tbody>\n",
       "</table>\n",
       "</div>"
      ],
      "text/plain": [
       "     Variable      N     Mean      SD      SE  95% Conf.  Interval\n",
       "0  total_bill  244.0  19.7859  8.9024  0.5699    18.6633   20.9086\n",
       "1         tip  244.0   2.9983  1.3836  0.0886     2.8238    3.1728\n",
       "2        size  244.0   2.5697  0.9511  0.0609     2.4497    2.6896"
      ]
     },
     "execution_count": 6,
     "metadata": {},
     "output_type": "execute_result"
    }
   ],
   "source": [
    "rp.summary_cont(df.select_dtypes(exclude=\"category\")) # summary_cont fonsiyonu sayısal değişkenler hakkında bilgi verir"
   ]
  },
  {
   "cell_type": "code",
   "execution_count": 7,
   "metadata": {},
   "outputs": [
    {
     "data": {
      "text/html": [
       "<div>\n",
       "<style scoped>\n",
       "    .dataframe tbody tr th:only-of-type {\n",
       "        vertical-align: middle;\n",
       "    }\n",
       "\n",
       "    .dataframe tbody tr th {\n",
       "        vertical-align: top;\n",
       "    }\n",
       "\n",
       "    .dataframe thead th {\n",
       "        text-align: right;\n",
       "    }\n",
       "</style>\n",
       "<table border=\"1\" class=\"dataframe\">\n",
       "  <thead>\n",
       "    <tr style=\"text-align: right;\">\n",
       "      <th></th>\n",
       "      <th>Variable</th>\n",
       "      <th>Outcome</th>\n",
       "      <th>Count</th>\n",
       "      <th>Percent</th>\n",
       "    </tr>\n",
       "  </thead>\n",
       "  <tbody>\n",
       "    <tr>\n",
       "      <th>0</th>\n",
       "      <td>sex</td>\n",
       "      <td>Male</td>\n",
       "      <td>157</td>\n",
       "      <td>64.34</td>\n",
       "    </tr>\n",
       "    <tr>\n",
       "      <th>1</th>\n",
       "      <td></td>\n",
       "      <td>Female</td>\n",
       "      <td>87</td>\n",
       "      <td>35.66</td>\n",
       "    </tr>\n",
       "    <tr>\n",
       "      <th>2</th>\n",
       "      <td>smoker</td>\n",
       "      <td>No</td>\n",
       "      <td>151</td>\n",
       "      <td>61.89</td>\n",
       "    </tr>\n",
       "    <tr>\n",
       "      <th>3</th>\n",
       "      <td></td>\n",
       "      <td>Yes</td>\n",
       "      <td>93</td>\n",
       "      <td>38.11</td>\n",
       "    </tr>\n",
       "    <tr>\n",
       "      <th>4</th>\n",
       "      <td>day</td>\n",
       "      <td>Sat</td>\n",
       "      <td>87</td>\n",
       "      <td>35.66</td>\n",
       "    </tr>\n",
       "    <tr>\n",
       "      <th>5</th>\n",
       "      <td></td>\n",
       "      <td>Sun</td>\n",
       "      <td>76</td>\n",
       "      <td>31.15</td>\n",
       "    </tr>\n",
       "    <tr>\n",
       "      <th>6</th>\n",
       "      <td></td>\n",
       "      <td>Thur</td>\n",
       "      <td>62</td>\n",
       "      <td>25.41</td>\n",
       "    </tr>\n",
       "    <tr>\n",
       "      <th>7</th>\n",
       "      <td></td>\n",
       "      <td>Fri</td>\n",
       "      <td>19</td>\n",
       "      <td>7.79</td>\n",
       "    </tr>\n",
       "    <tr>\n",
       "      <th>8</th>\n",
       "      <td>time</td>\n",
       "      <td>Dinner</td>\n",
       "      <td>176</td>\n",
       "      <td>72.13</td>\n",
       "    </tr>\n",
       "    <tr>\n",
       "      <th>9</th>\n",
       "      <td></td>\n",
       "      <td>Lunch</td>\n",
       "      <td>68</td>\n",
       "      <td>27.87</td>\n",
       "    </tr>\n",
       "  </tbody>\n",
       "</table>\n",
       "</div>"
      ],
      "text/plain": [
       "  Variable Outcome  Count  Percent\n",
       "0      sex    Male    157    64.34\n",
       "1           Female     87    35.66\n",
       "2   smoker      No    151    61.89\n",
       "3              Yes     93    38.11\n",
       "4      day     Sat     87    35.66\n",
       "5              Sun     76    31.15\n",
       "6             Thur     62    25.41\n",
       "7              Fri     19     7.79\n",
       "8     time  Dinner    176    72.13\n",
       "9            Lunch     68    27.87"
      ]
     },
     "execution_count": 7,
     "metadata": {},
     "output_type": "execute_result"
    }
   ],
   "source": [
    "rp.summary_cat(df.select_dtypes(include=\"category\")) # summary_cat fonsiyonu kategorik değişkenler hakkında bilgi verir"
   ]
  },
  {
   "cell_type": "code",
   "execution_count": 8,
   "metadata": {},
   "outputs": [
    {
     "data": {
      "text/html": [
       "<div>\n",
       "<style scoped>\n",
       "    .dataframe tbody tr th:only-of-type {\n",
       "        vertical-align: middle;\n",
       "    }\n",
       "\n",
       "    .dataframe tbody tr th {\n",
       "        vertical-align: top;\n",
       "    }\n",
       "\n",
       "    .dataframe thead th {\n",
       "        text-align: right;\n",
       "    }\n",
       "</style>\n",
       "<table border=\"1\" class=\"dataframe\">\n",
       "  <thead>\n",
       "    <tr style=\"text-align: right;\">\n",
       "      <th></th>\n",
       "      <th>tip</th>\n",
       "      <th>total_bill</th>\n",
       "    </tr>\n",
       "  </thead>\n",
       "  <tbody>\n",
       "    <tr>\n",
       "      <th>tip</th>\n",
       "      <td>1.914455</td>\n",
       "      <td>8.323502</td>\n",
       "    </tr>\n",
       "    <tr>\n",
       "      <th>total_bill</th>\n",
       "      <td>8.323502</td>\n",
       "      <td>79.252939</td>\n",
       "    </tr>\n",
       "  </tbody>\n",
       "</table>\n",
       "</div>"
      ],
      "text/plain": [
       "                 tip  total_bill\n",
       "tip         1.914455    8.323502\n",
       "total_bill  8.323502   79.252939"
      ]
     },
     "execution_count": 8,
     "metadata": {},
     "output_type": "execute_result"
    }
   ],
   "source": [
    "df[[\"tip\", \"total_bill\"]].cov() # Değişlenlerin koveryans değerini verir."
   ]
  },
  {
   "cell_type": "code",
   "execution_count": 9,
   "metadata": {},
   "outputs": [
    {
     "data": {
      "text/html": [
       "<div>\n",
       "<style scoped>\n",
       "    .dataframe tbody tr th:only-of-type {\n",
       "        vertical-align: middle;\n",
       "    }\n",
       "\n",
       "    .dataframe tbody tr th {\n",
       "        vertical-align: top;\n",
       "    }\n",
       "\n",
       "    .dataframe thead th {\n",
       "        text-align: right;\n",
       "    }\n",
       "</style>\n",
       "<table border=\"1\" class=\"dataframe\">\n",
       "  <thead>\n",
       "    <tr style=\"text-align: right;\">\n",
       "      <th></th>\n",
       "      <th>tip</th>\n",
       "      <th>total_bill</th>\n",
       "    </tr>\n",
       "  </thead>\n",
       "  <tbody>\n",
       "    <tr>\n",
       "      <th>tip</th>\n",
       "      <td>1.000000</td>\n",
       "      <td>0.675734</td>\n",
       "    </tr>\n",
       "    <tr>\n",
       "      <th>total_bill</th>\n",
       "      <td>0.675734</td>\n",
       "      <td>1.000000</td>\n",
       "    </tr>\n",
       "  </tbody>\n",
       "</table>\n",
       "</div>"
      ],
      "text/plain": [
       "                 tip  total_bill\n",
       "tip         1.000000    0.675734\n",
       "total_bill  0.675734    1.000000"
      ]
     },
     "execution_count": 9,
     "metadata": {},
     "output_type": "execute_result"
    }
   ],
   "source": [
    "df[[\"tip\", \"total_bill\"]].corr() # Değişlenlerin korelasyon değerini verir."
   ]
  },
  {
   "cell_type": "markdown",
   "metadata": {},
   "source": [
    "---"
   ]
  },
  {
   "cell_type": "markdown",
   "metadata": {},
   "source": [
    "<a id=3></a>\n",
    "### 3. Güven Aralığı\n",
    "- Güven aralığı, istatistik biliminde bir anakütle parametresi için bir çeşit aralık kestirimi olup bir çıkarımsal istatistik çözüm aracıdır. Bir anakütle parametre değerinin tek bir sayı ile kestirimi yapılacağına, bu parametre değerini kapsayabilecek iki (alt ve üst sınır) sayıdan oluşan bir aralık bulunur. Böylece güven aralıkları bir kestirimin ne kadar güvenilir olduğunu gösterir.\n",
    "- Güven aralığı genel olarak %95 olarak kabul edilir. Yani 100 uygulamadan sadece 5'i bu aralığın dışında olabilir.\n",
    "- Güven aralığının alt ve üst sınırı birbirine ne kadar yakın ise yani güven aralığı ne kadar darsa tüm popülasyonu tahmin etmede o kadar başarılıyız denilebilir.\n",
    "- Örneklem büyüklüğü arttıkça, güven aralığı daralır.\n",
    "- Güven aralığı standart hata kullanılarak hesaplanır, standart hata miktarı azaldıkça güven aralığı darlaşır. Standart hata, örneklem ortalamalarının dağılımını ölçer. \n",
    "    * ${Standart\\, Hata \\, (SE) = \\large{ \\frac{s}{\\sqrt{n}}}}$\n",
    "    * Standart Sapma ve Standart Hata Arasındaki farklar:\n",
    "        - Standart sapma altta yatan popülasyondaki dağılmayı ölçer.\n",
    "        - Standart hata, örneklem ortalamalarının dağılımını ölçer.\n",
    "        - Standart hata ve standart sapma arasındaki bağlantı, Standart hata örneklem ortalamalarının standart sapmasıdır. Yani büyük bir standart hata, örneklem ortalamalarının popülasyon etrafında oldukça fazla bir şekilde dağılması; küçük bir standart hata ise daha sıkı bir dağılıma sahip olması demektir. \n",
    "- $Güven \\, Aralığı \\, = {\\large \\overline{\\rm x} \\pm z \\frac{s}{\\sqrt n} }$\n",
    "    * ${ \\overline{\\rm x} -> Ortalama}$\n",
    "    * ${ s -> Standart \\, Sapma}$\n",
    "    * ${ z -> Z \\, Tablo \\, Değeri\\, (1.96)}$\n",
    "    * ${ n -> Gözlem \\, Sayısı}$  "
   ]
  },
  {
   "cell_type": "code",
   "execution_count": 10,
   "metadata": {},
   "outputs": [],
   "source": [
    "# Tip veri setinde ne kadar bahşis bırakılabileceğini güven aralığını hesaplayalım\n",
    "# İşlemi gerçekleştirmek için Statsmodels kütüphanesini kullanacağız\n",
    "# !pip install statsmodels\n",
    "import statsmodels.stats.api as sms"
   ]
  },
  {
   "cell_type": "code",
   "execution_count": 11,
   "metadata": {},
   "outputs": [
    {
     "data": {
      "text/plain": [
       "2.9982786885245902"
      ]
     },
     "execution_count": 11,
     "metadata": {},
     "output_type": "execute_result"
    }
   ],
   "source": [
    "df.tip.mean()"
   ]
  },
  {
   "cell_type": "code",
   "execution_count": 12,
   "metadata": {},
   "outputs": [
    {
     "data": {
      "text/plain": [
       "(2.8237993062818205, 3.172758070767359)"
      ]
     },
     "execution_count": 12,
     "metadata": {},
     "output_type": "execute_result"
    }
   ],
   "source": [
    "sms.DescrStatsW(df.tip).tconfint_mean() # Güven aralığını hesaplayan fonksiyon"
   ]
  },
  {
   "cell_type": "markdown",
   "metadata": {},
   "source": [
    "<a id=4></a>\n",
    "## Kaynaklar\n",
    "\n",
    "#### Websiteleri\n",
    "\n",
    "- https://tr.wikipedia.org/wiki/Anasayfa\n",
    "\n",
    "#### Kitaplar\n",
    "\n",
    "- https://web.stanford.edu/~hastie/ElemStatLearn/\n",
    "\n",
    "#### Kurslar\n",
    "\n",
    "- https://www.udemy.com/course/python-egitimi/\n",
    "- https://www.udemy.com/course/istatistik-python-adan-zye-temel-istatistik-bilimi-6/\n"
   ]
  }
 ],
 "metadata": {
  "kernelspec": {
   "display_name": "Python 3",
   "language": "python",
   "name": "python3"
  },
  "language_info": {
   "codemirror_mode": {
    "name": "ipython",
    "version": 3
   },
   "file_extension": ".py",
   "mimetype": "text/x-python",
   "name": "python",
   "nbconvert_exporter": "python",
   "pygments_lexer": "ipython3",
   "version": "3.8.5"
  }
 },
 "nbformat": 4,
 "nbformat_minor": 4
}
