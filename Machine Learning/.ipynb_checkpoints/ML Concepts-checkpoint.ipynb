{
 "cells": [
  {
   "cell_type": "markdown",
   "metadata": {},
   "source": [
    "# Makine Öğrenmesi\n",
    "\n",
    "\n",
    "## Makine Öğrenmesi Nedir?\n",
    "\n",
    "Makine öğrenmesi, belirli bir algoritmaya sahip olmayan problemlerin çözümünde kullanılan yöntemdir. Makine öğrenmesi sistemleri programlanmak yerine eğitilirler yani aslında makine öğrenmesi bilgisayarların kendi başlarına algoritma yazabilmesi olarakta tanımlanabilir. Klasik algoritma mantığında kurallar ve veri girdi olarak veririlir sonucunda ise çıktı olarak bir cevap alınır, makine öğrenmesinde ise cevaplar ve veri girdi olarak verilir ve sonucunda çıktı olarak kurallar alınır. \n",
    "\n",
    "Makine öğrenmesi modelleri bilinen girdi ve beklenen çıktılardan girdileri anlamlı çıktılara dönüştürmeyi öğrenirler bunu yaparken kurulan modelin iyileştirilmesi için beklenen çıktı ile gerçekleşen sonuç arasındaki fark ölçülür bu ölçüm modelin başarısı hakkında bilgi verir. Yani makine öğrenmesi için temel olarak 3 bileşene ihtiyaç duyarız:\n",
    "\n",
    "   1. Veri Giriş Noktaları \n",
    "   2. Beklenen Çıktı \n",
    "   3. Algoritmanın Başarısının Ölçülmesi\n",
    "\n",
    " \n",
    "    \"Yapay öğrenme, model oluşturmada istatistik kuramını kullanır, çünkü temeli gözlenmiş bir örneklemden çıkarım yapmaktır. Bilgisayar bilimlerinin göreviyse iki türlüdür: Öncelikle, öğrenme altında yatan iyileme probleminin genelde çok büyük miktarda olan veri üzerinde etkin çözülebilmesi gerekir. İkincisi, öğrenilmiş bir modelin bellekteki gösterimi ve onu kullanarak çıkarım yapmak da etkin olmalıdır. Bazı uygulamalarda, öğrenme ya da çıkarım algoritmasının etkinliği, yani bellek ve zaman karmaşıklığı, öngörü başarısı kadar önemli olabilir.\" (Yapay Öğrenme - Ethem Alpaydın)  \n",
    "   \n",
    "Makine öğremesinin temelde yaptığı işlem verileri gözlemleyerek genellenebilir kurallar oluşturmaktır. Veri olmadan makine öğrenmesini de gerçekleştiremeyiz. "
   ]
  },
  {
   "cell_type": "markdown",
   "metadata": {},
   "source": [
    "## Veri Nedir? \n",
    "\n",
    "Veri ham (işlenmemiş) gerçek enformasyon parçacığına verilen addır. Veriler ölçüm, sayım, deney, gözlem ya da araştırma yolu ile elde edilmektedir. Ölçüm ya da sayım yolu ile toplanan ve sayısal bir değer bildiren veriler nicel veriler, sayısal bir değer bildirmeyen veriler de nitel veriler olarak adlandırılmaktadır.\n",
    "\n",
    "## Veri Türleri Nelerdir?\n",
    "\n",
    "* Kategorik (Nitel) Veriler:  İfadenin betimlenme durumudur. Sayılar kullanılabilir ancak buradaki sayıların ifadeyi ölçme anlamında sayısal bir değeri yoktur. \n",
    "\n",
    "    - Sınıflama (Nominal) ölçek\n",
    "    \n",
    "        * Ölçmede kullanılan en az bilgi veren ölçek türüdür.\n",
    "        * Hiç bir matematiksel işlem yapılmaz fakat istatistiksel olarak yüzde , mod hesaplanabilir.\n",
    "\n",
    "    - Sıralama (Ordinal) ölçek\n",
    "    \n",
    "        * Miktara göre büyüklük veya küçüklük sıralaması yapar.\n",
    "        * Hiç bir matematiksel işlem yapılmaz fakat istatistiksel olarak yüzde , mod hesaplanabilir.\n",
    "        \n",
    "* Sayısal (Nicel) Veriler: Sayılarla ifade edilebilen değerlerdir.\n",
    "\n",
    "    - Eşit aralıklı (Interval) ölçek\n",
    "    \n",
    "        * Eğitimdeki bütün ölçümler burada bulunur.\n",
    "        * Başlangıç noktası bağıl sıfırdır.\n",
    "        * Bilgi ,beceri veya başarıyı ölçmede kullanılır.\n",
    "        * Ölçme sonuçları (-) negatif değerler de alabilmektedir.\n",
    "        * İstatistiksel işlemler ve sadece toplama ve çıkarma işlemleri yapılabilir.\n",
    "\n",
    "    - Oranlı (Ratio) ölçek\n",
    "    \n",
    "        * Buradaki sıfır gerçek sıfırı temsil eder.\n",
    "        * En nitelikli ve en çok bilgiyi veren ölçek türüdür.\n",
    "        * Bütün matematiksel ve istatistiksel işlemler yapılmaktadır."
   ]
  },
  {
   "cell_type": "markdown",
   "metadata": {},
   "source": [
    "## Değişken Nedir? \n",
    "\n",
    "Değişken gözlemden gözleme farklı değer alabilen niceliktir.\n",
    "\n",
    "## Değişken Türleri \n",
    "\n",
    "Bağımlı değişken ve bağımız değişken olarak ikiye ayrılır. Bağımsız değişkenler gözlemlenerek bağımlı değişken tahmin edilir. Örneğin spam e-postaları tespit ederken bağımsız değişkenlerimiz e-postanın içeriği, konusu, kimden geldiği vb. gibi sıralanabilir, bağımlı değişkenimiz ise bu e-postanın spam olup/olmadığıdır. \n",
    "\n"
   ]
  },
  {
   "cell_type": "markdown",
   "metadata": {},
   "source": [
    "## Makine Öğrenmesinin İş Akışı\n",
    "\n",
    "1. [Problemin Tanımı ve Veri Seti Oluşturma](#1)\n",
    "1. [Başarı Ölçüsünü Seçmek](#2)\n",
    "1. [Değerlendirme Protokolü Seçimi](#3)\n",
    "1. [Verileri Hazırlama](#4)\n",
    "1. [Modeli Kurmak](#5)\n",
    "1. [Modeli İyileştirmek](#6)\n",
    "1. [Düzenleştirme ve Hiperparametreleri Ayarlama](#7)"
   ]
  },
  {
   "cell_type": "markdown",
   "metadata": {},
   "source": [
    "<a id=1></a>\n",
    "## 1. Problemin Tanımı ve Veri Seti Oluşturma\n",
    "\n",
    "* Model Seçimi için İki Durum Söz Konusu\n",
    "\n",
    "    * Birincisi: Oluşabilecek değişken kombinasyonları ile oluşturulan modeller arasından en iyi modelin seçilmesi\n",
    "\n",
    "    * İkincisi: Kurulan birbirinden farklı modeller arasından model seçimi\n",
    "\n",
    "* Model Neye Göre Seçilir?\n",
    "\n",
    "    * Regresyon için açıklanabilirlik oranı ve RMSE benzeri bir değer.\n",
    "\n",
    "    * Sınıflandırma için doğru sınıflandırma oranı benzeri bir değer.\n",
    "    \n",
    "### Makine Öğrenmesinin Dört Kategorisi\n",
    "\n",
    "#### 1. Denetimli Öğrenme\n",
    "\n",
    "Denetimli öğrenme bir veri seti üzerindeki girdilerden\\bağımsız değişkenlerden bilinen çıktılara/bağımsız değişkene olan eşleştirmeyi öğrenmeyi amaçlar. Makine öğrenmesinin en yaygın kullanılan kategorisidir. Sınıflandırma ve bağlanım problemlerinde kullanılır. \n",
    "    \n",
    "   * Sınıflandırma: Hedef değişken kategorik bir veri ise sınıflandırma problemidir. \n",
    "       \n",
    "       Örnek: Cinsiyet Tahmini(Kadın/Erkek), E-posta Kontolü(Spam/Spam Değil), Hava durumu(Güneşli/Yağmurlu/Rüzgarlı) vb.\n",
    "   \n",
    "   * Bağlanım: Hedef değişken sürekli bir veri ise bağlanım problemidir. \n",
    "       \n",
    "       Örnek: Bir evin satış fiyatı, Dolar kuru tahmini, Hava sıcaklığı tahmin vb.\n",
    "\n",
    "#### 2. Denetimsiz Öğrenme\n",
    "\n",
    "Denetimsiz öğrenme genellikle denetimli öğrenmeden önce veriyi anlamak amacıyla uygulanan bir aşamadır. Amaç verilerdeki gürültüyü azaltmak, veriyi sıkıştırmak, veriyi görselleştirmek, korelasyon ilişkilerini keşfetmek için girdilerden herhangi bir bilinen hedef olmaksızın gerçekleştirirlir.\n",
    "\n",
    "   * Kümeleme\n",
    "   * Boyut Azaltma \n",
    "\n",
    "#### 3. Yarı Denetimli Öğrenme\n",
    "\n",
    "Denetimli öğrenmenin özel bir biçimidir. Denetimli öğrenmeden farkı verilerin tamamı etiketli olarak verilmez.En çok bilenen örneği otokodlayıcılardır(autoencoder).\n",
    "\n",
    "#### 4. Pekiştirmeli Öğrenme\n",
    "\n",
    "Pekiştirmeli öğrenme, amaca yönelik ne yapılması gerektiğini öğrenen bir makine öğrenmesi yaklaşımıdır. Deneme yanılma yöntemi ile öğrenme işlemi gerçekleşir. Pekiştirmeli öğrenmede ajan adı verilen öğrenen makinemiz karşılaştığı durumlara bir tepki verir ve bunun karşılığında da sayısal bir ödül sinyali alır, amacı ödül puanını maksimuma çıkartmaktır. "
   ]
  },
  {
   "cell_type": "markdown",
   "metadata": {},
   "source": [
    "<a id=2></a>\n",
    "## 2. Başarı Ölçüsünü Seçmek\n",
    "\n",
    "* Regresyon\n",
    "    - MSE\n",
    "    - RMSE\n",
    "    - MAE\n",
    "* Sınıflandırma\n",
    "    - Karmaşıklık Matrisi\n",
    "    - ROC Eğrisi"
   ]
  },
  {
   "cell_type": "markdown",
   "metadata": {},
   "source": [
    "<a id=3></a>\n",
    "## 3. Değerlendirme Protokolü Seçimi\n",
    "\n",
    "### Makine Öğrenmesi Modellerinin Değerlendirlimesi\n",
    "\n",
    "Makine öğrenmesinde amaç modelin genelleştirilmesidir. Genelleşirme modelin hiç görmediği verilerde de başarılı olarak tahmin işlemini gerçekleştirmesidir. Bu işlemi gerçekleştirmek için eğitim işlemi gerçekleştirilirken veri seti eğitim, doğrulama ve test veri seti olarak üçe ayırırız.\n",
    "\n",
    "### Eğitim - Doğrulama ve Test Veri Setleri\n",
    "\n",
    "Model eğitim veri setinde eğitilir. Kurulan modelin parametrelerini güncellemek için doğrulama veri seti kullanır. Parametreleri güncellerken aslında eğitim işlemine devam ederiz. Model doğrulama veri seti üzerinden eğitilmemesine rağmen dolaylı olarak doğrulama veri seti hakkında bilgi sahibi olur. Modelin son hali ise test veri seti ile kontrol edilir. Test işlemi modelin hiç görmediği veriler üzerinde gerçekleştirilmelidir. Test veri seti üzerindeki performansına bakarak parametre ayarı yaparsak genelleştirme işlemine zarar vermiş oluruz. "
   ]
  },
  {
   "cell_type": "markdown",
   "metadata": {},
   "source": [
    "### Model Doğrulama Yöntemleri\n",
    "\n",
    "Model doğrulama yöntemi seçilirken verinin temsil özelliğini kaybetmemesine, tekrar eden örnek içeren veri seti varsa test ve eğitim kısımlarının birbirinden farklı olmasına ve zaman serisi veri setileri üzerinde çalışırken veri setini karıştırmadan bölmeye dikkat edilmelidir. \n",
    "\n",
    "* Holdout Yöntemi\n",
    "* K Fold\n",
    "* Leave One Out\n",
    "* Bootstrap "
   ]
  },
  {
   "cell_type": "markdown",
   "metadata": {},
   "source": [
    "#### Holdout Yöntemi\n",
    "\n",
    "En basit doğrulama yöntemidir. Verilen veri setinin bir kısmı test için ayrılıp kalanıyla eğitim işlemi gerçekleştirilir. Fakat elimizde az veri varsa farklı karşılaştırmalar sonucunda farklı performans değerleri elde ederiz ki bu veri setinin istatistiksel olarak veri setinin gösterimini sağlamayak kadar küçük doğrulama ve test veri setine sahip olduğumuzu gösterir yani genelleştirme kuralına uymayan bir model elde ederiz. Küçük veri setlerinde K-fold doğrulama yöntemi kullanılması daha uygundur.\n",
    "\n",
    "<center><img src=\"Hold-out.png\"/><\\center>"
   ]
  },
  {
   "cell_type": "markdown",
   "metadata": {},
   "source": [
    "#### K Fold \n",
    "    \n",
    "K-fold yönteminde veri belirenen k sayısı kadar eşit parçaya ayrılır. Her fold da ${\\frac{1}{k}}$ kadarı test kalanı ise eğitim için kullanılır. Aşağıdaki görselde k=3 için bölme işleminin nasıl yapıldığ gösterilmiştir. Herbir işlemin sonucunda oluşan skor değerlerinin ortalaması alınarak modelin performansı ölçülür. \n",
    "    \n",
    "<center><img src=\"k-fold.png\"/><\\center>"
   ]
  },
  {
   "cell_type": "markdown",
   "metadata": {},
   "source": [
    "<a id=4></a>\n",
    "## 4. Verileri Hazırlama\n",
    "\n",
    "* Öznitelik çıkarımı\n",
    "* Vektöre dönüştürme\n",
    "* Normalizasyon\n",
    "* Standardasyon"
   ]
  },
  {
   "cell_type": "markdown",
   "metadata": {},
   "source": [
    "<a id=5></a>\n",
    "## 5. Modeli Kurmak\n",
    "\n",
    "İlk olarak amaç istatistiksel güce sahip model geliştirmektir fakat bu her zaman mümkün olmayabilir. Eğer problem oluştuysa kurduğumuz hipoteze dikkat etmek gerekir. Peki nedir buradaki hipotezimiz?\n",
    "\n",
    "1. Tahminlerimizin verdiğimiz girdilerden geleceği hipotezi.\n",
    "2. Elimizdeki verinin girdilerden çıktıları öğrenecek kadar bilgiyi içerdiği hipotezi.\n",
    "\n",
    "Eğer bu hipotezlerde sorun yoksa son olarak bakmamız gerek noktalar\n",
    "\n",
    "1. Son katman aktivasyonları\n",
    "2. Kayıp fonksiyonu \n",
    "3. Eniyileme(optimization) yapılandırması"
   ]
  },
  {
   "cell_type": "markdown",
   "metadata": {},
   "source": [
    "<a id=6></a>\n",
    "## 6. Modeli İyileştirmek\n",
    "\n",
    "Modeli iyileştirmek için bilmemiz gereken temel kavramlar vardır. Bu kavramlar bize modelin başarısı hakkında önemli bilgiler verir. \n",
    "\n",
    "* Önyargı/Yanlılık(Bias)\n",
    "* Varyans(Variance)\n",
    "* Aşırı Öğrenme(Overfitting)\n",
    "* Yetersiz Öğrenme(Underfitting)\n",
    "\n",
    "        \"Makine öğrenmesinde ana husus eniyileme ve genelleştirme arasındaki çekişmedir. Eniyileme, eğitim veri setinde en iyi performansı vermesi için modeli güncellemeye (makine öğrenmesinde bu sürece öğrenme denilmektedir) karşılık gelirken, genelleştirme, modelin daha önce hiç görmediği veriler üzerindeki performansının ne kadar iyi olduğuna karşılık gelir. Oyunun amacı elbette genelleştirmeyi iyileştirmektir ama genelleştirme kontrol edilemediğinden sadece eğitim veri setinde modeli iyileştirebilirsiniz.\" (Python ile Derin Öğrenme - François Chollet)\n",
    "\n",
    "### Önyargı(Bias) ve Varyans(Variance)\n",
    "\n",
    "Yanlılık nedir?\n",
    "    \n",
    "Yanlılık, modelimizin ortalama tahmini ile tahmin etmeye çalıştığımız doğru değer arasındaki farktır. Yüksek önyargılı model, eğitim verilerine çok az dikkat eder ve modeli çok basitleştirir. Eğitim ve test verilerinde her zaman yüksek hataya neden olur.\n",
    "\n",
    "\n",
    "Sapma(Varyans) nedir?\n",
    "\n",
    "Değişkenlik, belirli bir veri noktası veya verilerimizin yayılmasını bildiren bir değer için model tahmininin değişkenlik gösterimidir. Yüksek değişkenliğe sahip model, eğitim verilerine büyük önem verir ve daha önce görülmemiş veriler üzerinde genelleme yapmaz. Sonuç olarak, bu tür modeller eğitim verilerinde çok iyi performans gösterir ancak test verilerinde yüksek hata oranlarına sahiptir.\n",
    "\n",
    "### Aşırı Uydurma(Overfitting) ve Yetersiz Uydurma(Underfitting)\n",
    "\n",
    "Overfitting: Modeli kurarken temel amacımız genelleştirmedir. Genelleştirmeye uymayan her model başarısızdır. Overfitting durumunda model eğitim veri seti üzerinde başarılı bir şekilde tahmin etse de daha önce görmediği test veri seti üzerinde başarılı tahmin gerçekleştirmez.\n",
    "\n",
    "Underfitting: Model, eğitim verilerinin karmaşıklığını yakalamadığı için öngörücü yeteneğin zayıf olduğu bir model üretmek. Underfitting durumunda model öğreneme işlemini gerçekleştiremez. Yanlış özellikler hakkında eğitim yapılması, yeterli epok yapılması, çok düşük öğrenim hızı veya çok yüksek bir düzenleme oranı ile eğitim gerçekleştirilmesi underfitting durumuna sebep olur. \n",
    "    \n",
    "<center><img src=\"bias_variance.png\"/><\\center>"
   ]
  },
  {
   "cell_type": "markdown",
   "metadata": {},
   "source": [
    "<a id=7></a>\n",
    "## 7. Düzenleştirme ve Hiperparametreleri Ayarlama\n",
    "\n",
    "### Düzenleştime (Regularization)\n",
    " \n",
    "Veri sayısını azaltmak, ağın kapasitesini düşürmek, ağırlıkları düzenlemek ve iletim sönümü gibi işlemlerle overfitting'i önlenebilir. Bu işlemlerin genel adına düzenleştirme(regularization) denir.\n",
    "\n",
    "1.Ağırlıkların Düzenlenmesi\n",
    "\n",
    "Amaç ağırlıkların dağılımının düzenli hale getirilmesidir. Kayıp fonksiyonuna bir maliyet eklenerek büyük değerler almasına engel olunur. İki şekilde  \n",
    "\n",
    "1. L1 düzenlemesi\n",
    "Ağırlıkları, ağırlıkların mutlak değerlerinin toplamına orantılı olarak cezalandıran bir düzenleme türüdür. Seyrek özelliklere dayanan modellerde, L1 düzenlemesi, alakasız veya çok az alakalı özelliklerin ağırlıklarını tam olarak 0'a getirmeye yardımcı olur ve bu da bu özellikleri modelden kaldırır. \n",
    "\n",
    "2. L2 düzenlemesi\n",
    "Ağırlıkları, ağırlıkların karelerinin toplamı ile orantılı olarak cezalandıran bir tür düzenleme. L2 düzenlenmesi, aykırı ağırlıkların (yüksek pozitif veya düşük negatif değerlere sahip olanlar) 0'a yakın olmasına yardımcı olur ancak tam olarak 0 yapmaz. L2 düzenlenmesi, doğrusal modellerde her zaman genellemeyi iyileştirir.\n",
    "\n",
    "2.İletim Sönümü (Dropout)\n",
    "    Sinir ağlarını eğitmede yararlı bir düzenleme biçimidir. Dropout uygulanan katmanda rastgele olarak bazı nöranların değerleri sıfırlanır. Genellikle %20-%50 arasında bir değer seçilir. \n",
    "\n",
    "<center><img src=\"dropout.png\"/><\\center>\n",
    "    \n",
    "    \n",
    "3.Ağı Küçültmek \n",
    "    \n",
    "Sinir ağlarında kullanılan yöntemlerden biridir. Modelin katman sayısı düşürülerek karmaşıklığı düşürülür.\n",
    "    \n",
    "4.Erken durdurma (Early stopping)\n",
    "    \n",
    "Erken durdurma resmi bir düzenleme yöntemi değildir ancak aşırı takılmayı etkili bir şekilde sınırlayabilir.\n",
    "    \n",
    " "
   ]
  },
  {
   "cell_type": "markdown",
   "metadata": {},
   "source": [
    "---------------------------------"
   ]
  },
  {
   "cell_type": "markdown",
   "metadata": {},
   "source": [
    "### Kaynaklar\n",
    "\n",
    "#### Websiteleri\n",
    "- https://tr.wikipedia.org/wiki/Veri\n",
    "- https://developers.google.com/machine-learning/crash-course\n",
    "- https://towardsdatascience.com/understanding-the-bias-variance-tradeoff-165e6942b229\n",
    "\n",
    "#### Kitaplar\n",
    "- Yapay Örğenme - Ethem Alpaydın\n",
    "- Python ile Derin Öğrenme - François Chollet\n",
    "\n",
    "#### Makaleler\n",
    "- https://jmlr.org/papers/volume15/srivastava14a.old/srivastava14a.pdf\n",
    "\n",
    "#### Kurslar\n",
    "\n",
    "- https://www.coursera.org/learn/machine-learning\n"
   ]
  }
 ],
 "metadata": {
  "kernelspec": {
   "display_name": "Python 3",
   "language": "python",
   "name": "python3"
  },
  "language_info": {
   "codemirror_mode": {
    "name": "ipython",
    "version": 3
   },
   "file_extension": ".py",
   "mimetype": "text/x-python",
   "name": "python",
   "nbconvert_exporter": "python",
   "pygments_lexer": "ipython3",
   "version": "3.8.5"
  }
 },
 "nbformat": 4,
 "nbformat_minor": 4
}
